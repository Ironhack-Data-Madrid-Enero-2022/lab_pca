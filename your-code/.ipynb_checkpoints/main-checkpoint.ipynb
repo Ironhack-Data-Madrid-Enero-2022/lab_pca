{
 "cells": [
  {
   "cell_type": "markdown",
   "metadata": {},
   "source": [
    "# Before your start:\n",
    "- Read the README.md file\n",
    "- Comment as much as you can and use the resources (README.md file)\n",
    "- Happy learning!"
   ]
  },
  {
   "cell_type": "code",
   "execution_count": 1,
   "metadata": {},
   "outputs": [],
   "source": [
    "# Run this code:\n",
    "\n",
    "%matplotlib inline\n",
    "\n",
    "import matplotlib.pyplot as plt"
   ]
  },
  {
   "cell_type": "code",
   "execution_count": 2,
   "metadata": {},
   "outputs": [],
   "source": [
    "# Import numpy and pandas:\n",
    "\n",
    "import numpy as np\n",
    "import pandas as pd"
   ]
  },
  {
   "cell_type": "markdown",
   "metadata": {},
   "source": [
    "# Challenge 1 - Reading and Standardizing the Data\n",
    "\n",
    "In this challenge we will work with image data and reduce the dimensions of the data to create a 2 dimensional plot. While we have not worked much with image data before, it can be represented as a numpy array where each pixel is assigned a numeric value. In this lesson, we will look at a dataset of cats and a dataset of dogs and see whether reducing them to two dimensions allows us to see if the data is separable. We will start by loading and processing the data. Run the cell below to load the two csv files and convert them into numpy arrays."
   ]
  },
  {
   "cell_type": "code",
   "execution_count": 3,
   "metadata": {},
   "outputs": [],
   "source": [
    "# Run this code\n",
    "\n",
    "cats = np.array(pd.read_csv(\"https://raw.githubusercontent.com/bioramble/pca/master/cat.csv\", header=None))\n",
    "dogs = np.array(pd.read_csv(\"https://raw.githubusercontent.com/bioramble/pca/master/dog.csv\", header=None))"
   ]
  },
  {
   "cell_type": "markdown",
   "metadata": {},
   "source": [
    "Next, we'll examine the shape of both the cats and the dogs arrays. Print out both shapes below."
   ]
  },
  {
   "cell_type": "code",
   "execution_count": 4,
   "metadata": {},
   "outputs": [
    {
     "data": {
      "text/plain": [
       "(4096, 80)"
      ]
     },
     "execution_count": 4,
     "metadata": {},
     "output_type": "execute_result"
    }
   ],
   "source": [
    "cats.shape"
   ]
  },
  {
   "cell_type": "code",
   "execution_count": 5,
   "metadata": {},
   "outputs": [
    {
     "data": {
      "text/plain": [
       "(4096, 80)"
      ]
     },
     "execution_count": 5,
     "metadata": {},
     "output_type": "execute_result"
    }
   ],
   "source": [
    "dogs.shape"
   ]
  },
  {
   "cell_type": "markdown",
   "metadata": {},
   "source": [
    "What this means is that both arrays contain 80 images each (the number of columns). Each image is comprised of 64x64 pixels (so a total of 4096 pixels per image). The images have been flattened such that all 4096 are in a single row.\n",
    "\n",
    "Print out column 0 of the cats array to see what the pixels values look like."
   ]
  },
  {
   "cell_type": "code",
   "execution_count": 6,
   "metadata": {},
   "outputs": [
    {
     "data": {
      "text/plain": [
       "array([ 64,  23, 250, 137,  55, 173,  18, 134,  19,  47, 109, 164,  41,\n",
       "        78, 108, 108, 247, 105, 158,  54, 103,   4,  23, 102, 239,  72,\n",
       "        42,  21, 168, 109, 112, 177,  22, 233,  15, 236, 250, 137,  32,\n",
       "         5, 178, 109,  24, 107,  53, 241, 226, 143,   5, 136,  98, 100,\n",
       "        89,  66, 228,  92, 255,  88, 230,  56, 160,  69,   6,  24, 195,\n",
       "       183, 239,  35, 154, 154, 122,  18,  87, 106, 174,  69,  28,  60,\n",
       "       223, 101])"
      ]
     },
     "execution_count": 6,
     "metadata": {},
     "output_type": "execute_result"
    }
   ],
   "source": [
    "cats[0]"
   ]
  },
  {
   "cell_type": "code",
   "execution_count": 7,
   "metadata": {},
   "outputs": [
    {
     "data": {
      "text/plain": [
       "80"
      ]
     },
     "execution_count": 7,
     "metadata": {},
     "output_type": "execute_result"
    }
   ],
   "source": [
    "len(cats[0])"
   ]
  },
  {
   "cell_type": "markdown",
   "metadata": {},
   "source": [
    "Using `matplotlib` we can plot a single cat or a single dog. We do this by reshaping the vector back to a 64x64 image and then using the `imshow` function.\n",
    "\n",
    "Run the code below to look at the first dog and the first cat."
   ]
  },
  {
   "cell_type": "code",
   "execution_count": 8,
   "metadata": {},
   "outputs": [
    {
     "data": {
      "text/plain": [
       "<matplotlib.image.AxesImage at 0x7fda5501ae80>"
      ]
     },
     "execution_count": 8,
     "metadata": {},
     "output_type": "execute_result"
    },
    {
     "data": {
      "image/png": "[encoded data removed]",
      "text/plain": [
       "<Figure size 432x288 with 1 Axes>"
      ]
     },
     "metadata": {
      "needs_background": "light"
     },
     "output_type": "display_data"
    }
   ],
   "source": [
    "# Run this code:\n",
    "\n",
    "fig, ax = plt.subplots()\n",
    "ax.imshow(cats[:,0].reshape(64, 64).T, cmap=plt.cm.bone, interpolation='nearest') "
   ]
  },
  {
   "cell_type": "code",
   "execution_count": 35,
   "metadata": {},
   "outputs": [
    {
     "data": {
      "text/plain": [
       "<matplotlib.image.AxesImage at 0x7fda51250340>"
      ]
     },
     "execution_count": 35,
     "metadata": {},
     "output_type": "execute_result"
    },
    {
     "data": {
      "image/png": "[encoded data removed]",
      "text/plain": [
       "<Figure size 432x288 with 1 Axes>"
      ]
     },
     "metadata": {
      "needs_background": "light"
     },
     "output_type": "display_data"
    }
   ],
   "source": [
    "# Run this code:\n",
    "\n",
    "fig, ax = plt.subplots()\n",
    "ax.imshow(dogs[:,0].reshape(64, 64).T, cmap=plt.cm.bone, interpolation='nearest') "
   ]
  },
  {
   "cell_type": "markdown",
   "metadata": {},
   "source": [
    "Next, we would like to create a standardization function. This function will find the mean and standard deviation of each image. We subtract the mean from each pixel and divide each pixel by the standard deviation. Write the function below.\n",
    "\n",
    "Hint: To find the mean and standard deviation of each image, use `numpy`'s version of mean and standard deviation and use `axis=0`."
   ]
  },
  {
   "cell_type": "code",
   "execution_count": 123,
   "metadata": {
    "scrolled": true
   },
   "outputs": [],
   "source": [
    "def standardize(x):\n",
    "    #This function takes as input a numpy array and returns a stadardized numpy array of the same dimensions.\n",
    "    #Sample input: np.array([[1,2,3],[4,5,6]])\n",
    "    #Sample output: np.array([[-1,-1,-1],[1,1,1]])\n",
    "    x = (x - np.mean(x, axis=0)) / np.std(x, axis=0)\n",
    "    return (x)"
   ]
  },
  {
   "cell_type": "code",
   "execution_count": 11,
   "metadata": {
    "scrolled": true
   },
   "outputs": [
    {
     "data": {
      "text/plain": [
       "array([[-1., -1., -1.],\n",
       "       [ 1.,  1.,  1.]])"
      ]
     },
     "execution_count": 11,
     "metadata": {},
     "output_type": "execute_result"
    }
   ],
   "source": [
    "# Testeamos la función.\n",
    "\n",
    "standardize(np.array([[1,2,3],[4,5,6]]))"
   ]
  },
  {
   "cell_type": "code",
   "execution_count": 12,
   "metadata": {},
   "outputs": [
    {
     "data": {
      "text/plain": [
       "array([ 2.37662907, -0.30753004,  0.93254857, -0.30515588,  0.58779816,\n",
       "       -1.2410672 ,  0.40174   , -1.0382953 , -0.24093584,  1.18951595,\n",
       "       -1.39002703,  1.2035241 , -0.91780851, -0.65233857,  0.21409948,\n",
       "       -0.55742731, -0.11894995,  0.57760885,  0.25066588, -1.26576449,\n",
       "       -1.28876623, -1.60635214,  1.57810973, -2.08436   , -0.78273755,\n",
       "       -1.92160978, -0.9525075 ,  1.52724828, -1.20886777,  0.65417645,\n",
       "       -1.54269112, -0.24812732, -0.52964926, -2.02200115, -1.54464976,\n",
       "       -1.13501706, -2.20683157, -1.33178389, -1.98489704,  0.27990359,\n",
       "       -1.85134553,  1.82704939, -1.85956811, -0.05720659, -0.65409139,\n",
       "        1.73173534,  0.56017097,  0.3647689 ,  0.97496023, -2.45196441,\n",
       "        0.88384984,  3.39534808,  0.08822367, -1.47008747,  0.36291312,\n",
       "       -1.12153179,  0.91205362,  1.96792908, -1.20126292, -1.85817305,\n",
       "       -0.14132412,  1.19123712,  1.31726898, -1.66159487, -1.04560429,\n",
       "        0.93769802, -0.81971811, -1.42122609, -0.94074782, -1.91809219,\n",
       "       -2.44182959, -0.80837759, -1.65538551, -3.23323767, -0.05822786,\n",
       "        1.50020123, -1.81395653, -1.20040955, -1.96502931,  1.40507148])"
      ]
     },
     "execution_count": 12,
     "metadata": {},
     "output_type": "execute_result"
    }
   ],
   "source": [
    "dogs_stand = standardize(dogs)\n",
    "\n",
    "dogs_stand[0]"
   ]
  },
  {
   "cell_type": "code",
   "execution_count": 13,
   "metadata": {},
   "outputs": [
    {
     "data": {
      "text/plain": [
       "array([ 0.08483333, -1.50629151,  1.80099272,  1.43363202, -0.24261528,\n",
       "        0.77724469, -1.14075696,  0.69507199, -1.58713199, -1.19762528,\n",
       "       -0.45578272, -0.12882989, -1.48890725, -0.13093046, -0.28218907,\n",
       "       -0.21292752,  2.45299663,  0.3784883 ,  1.35370214, -1.93602292,\n",
       "        0.86421208, -1.6854706 , -2.19229424, -1.26891378,  2.36964728,\n",
       "       -0.9072092 , -0.90160329, -2.36567542,  0.84192841, -0.01945102,\n",
       "        0.50187668,  1.38197065, -1.15222148,  1.94265179, -2.14421318,\n",
       "        1.20195464,  2.258456  , -0.11836705, -1.80703709, -0.7810737 ,\n",
       "        0.86912647,  0.48715823, -1.93463329, -1.48574857, -1.59677183,\n",
       "        1.61284225,  1.05852386, -0.15672934, -1.70267507,  0.94654876,\n",
       "        0.43480601, -0.15280088, -0.45172627, -1.22895052,  1.52696597,\n",
       "       -0.56202478,  1.79215731, -0.7412813 ,  2.20642712, -2.0327414 ,\n",
       "        0.72998652, -0.49402989, -1.30925783, -1.97565349,  0.90354346,\n",
       "        1.2429442 ,  2.05135657, -0.88930512,  0.69346272,  0.00576157,\n",
       "        0.08199086, -1.7521382 , -0.25929941, -0.13339312,  1.03956538,\n",
       "       -1.04856168, -1.76384423, -1.80817356,  1.42293481, -0.20363951])"
      ]
     },
     "execution_count": 13,
     "metadata": {},
     "output_type": "execute_result"
    }
   ],
   "source": [
    "cats_stand = standardize(cats)\n",
    "\n",
    "cats_stand[0]"
   ]
  },
  {
   "cell_type": "markdown",
   "metadata": {},
   "source": [
    "Now, use the `np.concatenate` function to combine the cats and dogs arrays. Use `axis=1` to combine the two correctly. Make sure to put dogs first."
   ]
  },
  {
   "cell_type": "code",
   "execution_count": 14,
   "metadata": {},
   "outputs": [],
   "source": [
    "dogs_df = pd.DataFrame(dogs)\n",
    "\n",
    "cats_df = pd.DataFrame(cats)"
   ]
  },
  {
   "cell_type": "code",
   "execution_count": 15,
   "metadata": {},
   "outputs": [
    {
     "data": {
      "text/plain": [
       "(4096, 80)"
      ]
     },
     "execution_count": 15,
     "metadata": {},
     "output_type": "execute_result"
    }
   ],
   "source": [
    "dogs_df.shape"
   ]
  },
  {
   "cell_type": "code",
   "execution_count": 16,
   "metadata": {},
   "outputs": [],
   "source": [
    "todos = pd.concat([dogs_df, cats_df], axis=1)"
   ]
  },
  {
   "cell_type": "code",
   "execution_count": 17,
   "metadata": {},
   "outputs": [
    {
     "data": {
      "text/plain": [
       "(4096, 160)"
      ]
     },
     "execution_count": 17,
     "metadata": {},
     "output_type": "execute_result"
    }
   ],
   "source": [
    "todos.shape"
   ]
  },
  {
   "cell_type": "markdown",
   "metadata": {},
   "source": [
    "Standardize the concatenated array below."
   ]
  },
  {
   "cell_type": "code",
   "execution_count": 18,
   "metadata": {},
   "outputs": [],
   "source": [
    "todos_stand = standardize(todos)"
   ]
  },
  {
   "cell_type": "code",
   "execution_count": 19,
   "metadata": {
    "scrolled": false
   },
   "outputs": [
    {
     "data": {
      "text/plain": [
       "(4096, 160)"
      ]
     },
     "execution_count": 19,
     "metadata": {},
     "output_type": "execute_result"
    }
   ],
   "source": [
    "todos_stand.shape"
   ]
  },
  {
   "cell_type": "code",
   "execution_count": 31,
   "metadata": {},
   "outputs": [
    {
     "data": {
      "text/plain": [
       "(4096, 160)"
      ]
     },
     "execution_count": 31,
     "metadata": {},
     "output_type": "execute_result"
    }
   ],
   "source": [
    "todos_stand.shape"
   ]
  },
  {
   "cell_type": "code",
   "execution_count": 30,
   "metadata": {},
   "outputs": [
    {
     "data": {
      "text/html": [
       "<div>\n",
       "<style scoped>\n",
       "    .dataframe tbody tr th:only-of-type {\n",
       "        vertical-align: middle;\n",
       "    }\n",
       "\n",
       "    .dataframe tbody tr th {\n",
       "        vertical-align: top;\n",
       "    }\n",
       "\n",
       "    .dataframe thead th {\n",
       "        text-align: right;\n",
       "    }\n",
       "</style>\n",
       "<table border=\"1\" class=\"dataframe\">\n",
       "  <thead>\n",
       "    <tr style=\"text-align: right;\">\n",
       "      <th></th>\n",
       "      <th>0</th>\n",
       "      <th>1</th>\n",
       "      <th>2</th>\n",
       "      <th>3</th>\n",
       "      <th>4</th>\n",
       "      <th>5</th>\n",
       "      <th>6</th>\n",
       "      <th>7</th>\n",
       "      <th>8</th>\n",
       "      <th>9</th>\n",
       "      <th>...</th>\n",
       "      <th>70</th>\n",
       "      <th>71</th>\n",
       "      <th>72</th>\n",
       "      <th>73</th>\n",
       "      <th>74</th>\n",
       "      <th>75</th>\n",
       "      <th>76</th>\n",
       "      <th>77</th>\n",
       "      <th>78</th>\n",
       "      <th>79</th>\n",
       "    </tr>\n",
       "  </thead>\n",
       "  <tbody>\n",
       "    <tr>\n",
       "      <th>4091</th>\n",
       "      <td>-0.916310</td>\n",
       "      <td>-0.405003</td>\n",
       "      <td>0.359418</td>\n",
       "      <td>-1.417084</td>\n",
       "      <td>0.403992</td>\n",
       "      <td>-1.466635</td>\n",
       "      <td>-1.141460</td>\n",
       "      <td>-1.855323</td>\n",
       "      <td>-0.690911</td>\n",
       "      <td>0.878727</td>\n",
       "      <td>...</td>\n",
       "      <td>0.988278</td>\n",
       "      <td>0.572214</td>\n",
       "      <td>-1.092872</td>\n",
       "      <td>1.387610</td>\n",
       "      <td>-1.228861</td>\n",
       "      <td>-1.119853</td>\n",
       "      <td>0.333444</td>\n",
       "      <td>-0.936331</td>\n",
       "      <td>0.743074</td>\n",
       "      <td>0.244150</td>\n",
       "    </tr>\n",
       "    <tr>\n",
       "      <th>4092</th>\n",
       "      <td>-0.465697</td>\n",
       "      <td>-0.683497</td>\n",
       "      <td>0.359418</td>\n",
       "      <td>-1.417084</td>\n",
       "      <td>0.138493</td>\n",
       "      <td>-1.466635</td>\n",
       "      <td>-0.989045</td>\n",
       "      <td>-1.855323</td>\n",
       "      <td>-0.534398</td>\n",
       "      <td>0.747868</td>\n",
       "      <td>...</td>\n",
       "      <td>0.192514</td>\n",
       "      <td>0.572214</td>\n",
       "      <td>-0.330748</td>\n",
       "      <td>1.556611</td>\n",
       "      <td>-1.085087</td>\n",
       "      <td>-1.143617</td>\n",
       "      <td>0.188803</td>\n",
       "      <td>-0.987616</td>\n",
       "      <td>0.673345</td>\n",
       "      <td>0.492922</td>\n",
       "    </tr>\n",
       "    <tr>\n",
       "      <th>4093</th>\n",
       "      <td>0.227553</td>\n",
       "      <td>-0.683497</td>\n",
       "      <td>0.633524</td>\n",
       "      <td>-1.417084</td>\n",
       "      <td>-0.269966</td>\n",
       "      <td>-1.360485</td>\n",
       "      <td>-0.760423</td>\n",
       "      <td>-1.688892</td>\n",
       "      <td>-0.534398</td>\n",
       "      <td>0.747868</td>\n",
       "      <td>...</td>\n",
       "      <td>0.612500</td>\n",
       "      <td>0.518575</td>\n",
       "      <td>-1.021423</td>\n",
       "      <td>1.894611</td>\n",
       "      <td>-1.053138</td>\n",
       "      <td>-0.597049</td>\n",
       "      <td>0.279204</td>\n",
       "      <td>-0.654264</td>\n",
       "      <td>0.673345</td>\n",
       "      <td>0.119764</td>\n",
       "    </tr>\n",
       "    <tr>\n",
       "      <th>4094</th>\n",
       "      <td>0.227553</td>\n",
       "      <td>-0.405003</td>\n",
       "      <td>0.359418</td>\n",
       "      <td>-1.283653</td>\n",
       "      <td>-0.269966</td>\n",
       "      <td>-1.466635</td>\n",
       "      <td>-0.550852</td>\n",
       "      <td>-1.855323</td>\n",
       "      <td>-0.534398</td>\n",
       "      <td>0.747868</td>\n",
       "      <td>...</td>\n",
       "      <td>-0.360100</td>\n",
       "      <td>0.661612</td>\n",
       "      <td>-1.140505</td>\n",
       "      <td>1.798040</td>\n",
       "      <td>-1.148987</td>\n",
       "      <td>-0.335647</td>\n",
       "      <td>0.333444</td>\n",
       "      <td>-0.320912</td>\n",
       "      <td>0.708209</td>\n",
       "      <td>-0.452411</td>\n",
       "    </tr>\n",
       "    <tr>\n",
       "      <th>4095</th>\n",
       "      <td>0.227553</td>\n",
       "      <td>-0.405003</td>\n",
       "      <td>0.359418</td>\n",
       "      <td>-1.039028</td>\n",
       "      <td>0.015955</td>\n",
       "      <td>-1.466635</td>\n",
       "      <td>-0.074556</td>\n",
       "      <td>-1.855323</td>\n",
       "      <td>-0.534398</td>\n",
       "      <td>0.747868</td>\n",
       "      <td>...</td>\n",
       "      <td>0.435664</td>\n",
       "      <td>0.876167</td>\n",
       "      <td>-0.783259</td>\n",
       "      <td>2.184326</td>\n",
       "      <td>-1.196911</td>\n",
       "      <td>-1.119853</td>\n",
       "      <td>0.333444</td>\n",
       "      <td>-0.679906</td>\n",
       "      <td>0.621048</td>\n",
       "      <td>0.094887</td>\n",
       "    </tr>\n",
       "  </tbody>\n",
       "</table>\n",
       "<p>5 rows × 160 columns</p>\n",
       "</div>"
      ],
      "text/plain": [
       "            0         1         2         3         4         5         6   \\\n",
       "4091 -0.916310 -0.405003  0.359418 -1.417084  0.403992 -1.466635 -1.141460   \n",
       "4092 -0.465697 -0.683497  0.359418 -1.417084  0.138493 -1.466635 -0.989045   \n",
       "4093  0.227553 -0.683497  0.633524 -1.417084 -0.269966 -1.360485 -0.760423   \n",
       "4094  0.227553 -0.405003  0.359418 -1.283653 -0.269966 -1.466635 -0.550852   \n",
       "4095  0.227553 -0.405003  0.359418 -1.039028  0.015955 -1.466635 -0.074556   \n",
       "\n",
       "            7         8         9   ...        70        71        72  \\\n",
       "4091 -1.855323 -0.690911  0.878727  ...  0.988278  0.572214 -1.092872   \n",
       "4092 -1.855323 -0.534398  0.747868  ...  0.192514  0.572214 -0.330748   \n",
       "4093 -1.688892 -0.534398  0.747868  ...  0.612500  0.518575 -1.021423   \n",
       "4094 -1.855323 -0.534398  0.747868  ... -0.360100  0.661612 -1.140505   \n",
       "4095 -1.855323 -0.534398  0.747868  ...  0.435664  0.876167 -0.783259   \n",
       "\n",
       "            73        74        75        76        77        78        79  \n",
       "4091  1.387610 -1.228861 -1.119853  0.333444 -0.936331  0.743074  0.244150  \n",
       "4092  1.556611 -1.085087 -1.143617  0.188803 -0.987616  0.673345  0.492922  \n",
       "4093  1.894611 -1.053138 -0.597049  0.279204 -0.654264  0.673345  0.119764  \n",
       "4094  1.798040 -1.148987 -0.335647  0.333444 -0.320912  0.708209 -0.452411  \n",
       "4095  2.184326 -1.196911 -1.119853  0.333444 -0.679906  0.621048  0.094887  \n",
       "\n",
       "[5 rows x 160 columns]"
      ]
     },
     "execution_count": 30,
     "metadata": {},
     "output_type": "execute_result"
    }
   ],
   "source": [
    "todos_stand.tail()"
   ]
  },
  {
   "cell_type": "markdown",
   "metadata": {},
   "source": [
    "# Challenge 2 - Using PCA\n",
    "\n",
    "Now that we have created a standardized matrix of cats and dogs, we'll find the two most important components in the data.\n",
    "\n",
    "Load the `PCA` function from `statsmodels` (read about this function [here](https://www.statsmodels.org/dev/generated/statsmodels.multivariate.pca.PCA.html)) and apply the function to our standarized data. Create a PCA model with two components."
   ]
  },
  {
   "cell_type": "code",
   "execution_count": 20,
   "metadata": {},
   "outputs": [],
   "source": [
    "from sklearn.decomposition import PCA"
   ]
  },
  {
   "cell_type": "code",
   "execution_count": 21,
   "metadata": {},
   "outputs": [
    {
     "data": {
      "text/plain": [
       "PCA()"
      ]
     },
     "execution_count": 21,
     "metadata": {},
     "output_type": "execute_result"
    }
   ],
   "source": [
    "pca=PCA()\n",
    "\n",
    "pca.fit(todos_stand)"
   ]
  },
  {
   "cell_type": "code",
   "execution_count": 22,
   "metadata": {
    "scrolled": true
   },
   "outputs": [
    {
     "data": {
      "image/png": "[encoded data removed]",
      "text/plain": [
       "<Figure size 720x360 with 1 Axes>"
      ]
     },
     "metadata": {
      "needs_background": "light"
     },
     "output_type": "display_data"
    }
   ],
   "source": [
    "plt.figure(figsize=(10, 5))\n",
    "\n",
    "plt.plot(np.cumsum(pca.explained_variance_ratio_))\n",
    "\n",
    "plt.xlabel('Numero de componentes')\n",
    "plt.ylabel('% varianza')\n",
    "plt.ylim([0, 1.01]);"
   ]
  },
  {
   "cell_type": "code",
   "execution_count": 23,
   "metadata": {},
   "outputs": [],
   "source": [
    "# Creamos un PCA de 2 componentes.\n",
    "\n",
    "pca=PCA(n_components=2)\n",
    "\n",
    "pets = pd.DataFrame((pca.fit_transform(todos_stand)))"
   ]
  },
  {
   "cell_type": "code",
   "execution_count": 24,
   "metadata": {
    "scrolled": false
   },
   "outputs": [
    {
     "data": {
      "text/plain": [
       "(4096, 2)"
      ]
     },
     "execution_count": 24,
     "metadata": {},
     "output_type": "execute_result"
    }
   ],
   "source": [
    "pets.shape"
   ]
  },
  {
   "cell_type": "code",
   "execution_count": 36,
   "metadata": {
    "scrolled": false
   },
   "outputs": [
    {
     "data": {
      "text/html": [
       "<div>\n",
       "<style scoped>\n",
       "    .dataframe tbody tr th:only-of-type {\n",
       "        vertical-align: middle;\n",
       "    }\n",
       "\n",
       "    .dataframe tbody tr th {\n",
       "        vertical-align: top;\n",
       "    }\n",
       "\n",
       "    .dataframe thead th {\n",
       "        text-align: right;\n",
       "    }\n",
       "</style>\n",
       "<table border=\"1\" class=\"dataframe\">\n",
       "  <thead>\n",
       "    <tr style=\"text-align: right;\">\n",
       "      <th></th>\n",
       "      <th>0</th>\n",
       "      <th>1</th>\n",
       "    </tr>\n",
       "  </thead>\n",
       "  <tbody>\n",
       "    <tr>\n",
       "      <th>0</th>\n",
       "      <td>10.057970</td>\n",
       "      <td>-9.718555</td>\n",
       "    </tr>\n",
       "    <tr>\n",
       "      <th>1</th>\n",
       "      <td>10.204446</td>\n",
       "      <td>-9.430432</td>\n",
       "    </tr>\n",
       "    <tr>\n",
       "      <th>2</th>\n",
       "      <td>10.215465</td>\n",
       "      <td>-9.604244</td>\n",
       "    </tr>\n",
       "    <tr>\n",
       "      <th>3</th>\n",
       "      <td>10.209994</td>\n",
       "      <td>-9.768486</td>\n",
       "    </tr>\n",
       "    <tr>\n",
       "      <th>4</th>\n",
       "      <td>10.424260</td>\n",
       "      <td>-9.537116</td>\n",
       "    </tr>\n",
       "  </tbody>\n",
       "</table>\n",
       "</div>"
      ],
      "text/plain": [
       "           0         1\n",
       "0  10.057970 -9.718555\n",
       "1  10.204446 -9.430432\n",
       "2  10.215465 -9.604244\n",
       "3  10.209994 -9.768486\n",
       "4  10.424260 -9.537116"
      ]
     },
     "execution_count": 36,
     "metadata": {},
     "output_type": "execute_result"
    }
   ],
   "source": [
    "pets.head()"
   ]
  },
  {
   "cell_type": "markdown",
   "metadata": {},
   "source": [
    "Use `numpy` to find to transpose the standardized pet array. This will help us compute the projection."
   ]
  },
  {
   "cell_type": "code",
   "execution_count": 40,
   "metadata": {},
   "outputs": [
    {
     "data": {
      "text/plain": [
       "(4096, 160)"
      ]
     },
     "execution_count": 40,
     "metadata": {},
     "output_type": "execute_result"
    }
   ],
   "source": [
    "todos_stand.shape"
   ]
  },
  {
   "cell_type": "code",
   "execution_count": 38,
   "metadata": {},
   "outputs": [],
   "source": [
    "todos_stand_trans = todos_stand.transpose()"
   ]
  },
  {
   "cell_type": "code",
   "execution_count": 39,
   "metadata": {},
   "outputs": [
    {
     "data": {
      "text/plain": [
       "(160, 4096)"
      ]
     },
     "execution_count": 39,
     "metadata": {},
     "output_type": "execute_result"
    }
   ],
   "source": [
    "todos_stand_trans.shape"
   ]
  },
  {
   "cell_type": "markdown",
   "metadata": {},
   "source": [
    "Find the dot product of the transposed standardized pet matrix and the `factors` of the `PCA` model found above. This will be the projection onto 2 dimensions. This means that each cat and dog image will now only have two columns instead of 4096."
   ]
  },
  {
   "cell_type": "code",
   "execution_count": 41,
   "metadata": {},
   "outputs": [
    {
     "data": {
      "text/plain": [
       "(4096, 2)"
      ]
     },
     "execution_count": 41,
     "metadata": {},
     "output_type": "execute_result"
    }
   ],
   "source": [
    "pets.shape"
   ]
  },
  {
   "cell_type": "code",
   "execution_count": 42,
   "metadata": {},
   "outputs": [
    {
     "data": {
      "text/plain": [
       "(160, 4096)"
      ]
     },
     "execution_count": 42,
     "metadata": {},
     "output_type": "execute_result"
    }
   ],
   "source": [
    "todos_stand_trans.shape"
   ]
  },
  {
   "cell_type": "code",
   "execution_count": 43,
   "metadata": {},
   "outputs": [],
   "source": [
    "pets_dot = np.dot(todos_stand_trans, pets)"
   ]
  },
  {
   "cell_type": "code",
   "execution_count": 45,
   "metadata": {},
   "outputs": [
    {
     "data": {
      "text/plain": [
       "(160, 2)"
      ]
     },
     "execution_count": 45,
     "metadata": {},
     "output_type": "execute_result"
    }
   ],
   "source": [
    "pets_dot.shape"
   ]
  },
  {
   "cell_type": "code",
   "execution_count": 35,
   "metadata": {
    "scrolled": false
   },
   "outputs": [
    {
     "data": {
      "text/plain": [
       "<matplotlib.image.AxesImage at 0x7fda51250340>"
      ]
     },
     "execution_count": 35,
     "metadata": {},
     "output_type": "execute_result"
    },
    {
     "data": {
      "image/png": "[encoded data removed]",
      "text/plain": [
       "<Figure size 432x288 with 1 Axes>"
      ]
     },
     "metadata": {
      "needs_background": "light"
     },
     "output_type": "display_data"
    }
   ],
   "source": [
    "# ¿Cómo es el \"perro promedio\"?\n",
    "\n",
    "fig, ax = plt.subplots()\n",
    "ax.imshow(dogs[:,0].reshape(64, 64).T, cmap=plt.cm.bone, interpolation='nearest')"
   ]
  },
  {
   "cell_type": "markdown",
   "metadata": {},
   "source": [
    "# Challenge 3 - Plotting the Data\n",
    "\n",
    "Now that we have reduced our cats and dogs arrays, we can easily plot the data in a way that the human eye can understand. We can look at this plot to see whether there are differences between the cat and dog images. \n",
    "\n",
    "In the cell below, turn the two dimensional projection into a pandas dataframe and name the columns `pc1`, and `pc2` respectively."
   ]
  },
  {
   "cell_type": "code",
   "execution_count": 47,
   "metadata": {},
   "outputs": [],
   "source": [
    "pets_df = pd.DataFrame(pets_dot)\n",
    "\n",
    "pets_df.columns = ['pc1', 'pc2']"
   ]
  },
  {
   "cell_type": "code",
   "execution_count": 108,
   "metadata": {},
   "outputs": [
    {
     "data": {
      "text/html": [
       "<div>\n",
       "<style scoped>\n",
       "    .dataframe tbody tr th:only-of-type {\n",
       "        vertical-align: middle;\n",
       "    }\n",
       "\n",
       "    .dataframe tbody tr th {\n",
       "        vertical-align: top;\n",
       "    }\n",
       "\n",
       "    .dataframe thead th {\n",
       "        text-align: right;\n",
       "    }\n",
       "</style>\n",
       "<table border=\"1\" class=\"dataframe\">\n",
       "  <thead>\n",
       "    <tr style=\"text-align: right;\">\n",
       "      <th></th>\n",
       "      <th>pc1</th>\n",
       "      <th>pc2</th>\n",
       "    </tr>\n",
       "  </thead>\n",
       "  <tbody>\n",
       "    <tr>\n",
       "      <th>0</th>\n",
       "      <td>14348.514038</td>\n",
       "      <td>-3981.259438</td>\n",
       "    </tr>\n",
       "    <tr>\n",
       "      <th>1</th>\n",
       "      <td>10873.022758</td>\n",
       "      <td>5211.510264</td>\n",
       "    </tr>\n",
       "    <tr>\n",
       "      <th>2</th>\n",
       "      <td>-4378.848117</td>\n",
       "      <td>4874.923062</td>\n",
       "    </tr>\n",
       "    <tr>\n",
       "      <th>3</th>\n",
       "      <td>1717.007487</td>\n",
       "      <td>8914.442343</td>\n",
       "    </tr>\n",
       "    <tr>\n",
       "      <th>4</th>\n",
       "      <td>11101.884025</td>\n",
       "      <td>-1114.370493</td>\n",
       "    </tr>\n",
       "  </tbody>\n",
       "</table>\n",
       "</div>"
      ],
      "text/plain": [
       "            pc1          pc2\n",
       "0  14348.514038 -3981.259438\n",
       "1  10873.022758  5211.510264\n",
       "2  -4378.848117  4874.923062\n",
       "3   1717.007487  8914.442343\n",
       "4  11101.884025 -1114.370493"
      ]
     },
     "execution_count": 108,
     "metadata": {},
     "output_type": "execute_result"
    }
   ],
   "source": [
    "pets_df.head()"
   ]
  },
  {
   "cell_type": "markdown",
   "metadata": {},
   "source": [
    "Create a labels list. This list will be of size 160. The first 80 elements in the list will be the word `blue`, and the last 80 elements will be `red`. This will ensure that all dog observations will be colored in blue and all cats will be colored in red. Name this list `colors`."
   ]
  },
  {
   "cell_type": "code",
   "execution_count": 80,
   "metadata": {},
   "outputs": [],
   "source": [
    "blue = ('blue ' * 80).split(' ')\n",
    "red = ('red ' * 80).split(' ')"
   ]
  },
  {
   "cell_type": "code",
   "execution_count": 82,
   "metadata": {
    "scrolled": false
   },
   "outputs": [
    {
     "data": {
      "text/plain": [
       "['blue', 'blue', 'blue', 'blue', '']"
      ]
     },
     "execution_count": 82,
     "metadata": {},
     "output_type": "execute_result"
    }
   ],
   "source": [
    "blue[-5 :]"
   ]
  },
  {
   "cell_type": "code",
   "execution_count": 83,
   "metadata": {},
   "outputs": [
    {
     "data": {
      "text/plain": [
       "['red', 'red', 'red', 'red', '']"
      ]
     },
     "execution_count": 83,
     "metadata": {},
     "output_type": "execute_result"
    }
   ],
   "source": [
    "red[-5 :]"
   ]
  },
  {
   "cell_type": "code",
   "execution_count": 84,
   "metadata": {},
   "outputs": [
    {
     "data": {
      "text/plain": [
       "''"
      ]
     },
     "execution_count": 84,
     "metadata": {},
     "output_type": "execute_result"
    }
   ],
   "source": [
    "blue.pop()\n",
    "red.pop()"
   ]
  },
  {
   "cell_type": "code",
   "execution_count": 85,
   "metadata": {},
   "outputs": [
    {
     "data": {
      "text/plain": [
       "['blue', 'blue', 'blue', 'blue', 'blue']"
      ]
     },
     "execution_count": 85,
     "metadata": {},
     "output_type": "execute_result"
    }
   ],
   "source": [
    "blue[-5 :]"
   ]
  },
  {
   "cell_type": "code",
   "execution_count": 86,
   "metadata": {},
   "outputs": [
    {
     "data": {
      "text/plain": [
       "['red', 'red', 'red', 'red', 'red']"
      ]
     },
     "execution_count": 86,
     "metadata": {},
     "output_type": "execute_result"
    }
   ],
   "source": [
    "red[-5 :]"
   ]
  },
  {
   "cell_type": "code",
   "execution_count": 89,
   "metadata": {},
   "outputs": [
    {
     "data": {
      "text/plain": [
       "160"
      ]
     },
     "execution_count": 89,
     "metadata": {},
     "output_type": "execute_result"
    }
   ],
   "source": [
    "colors = blue + red\n",
    "\n",
    "len(colors)"
   ]
  },
  {
   "cell_type": "markdown",
   "metadata": {},
   "source": [
    "Create a scatter plot of `pc1` and `pc2` below. Use the `colors` list above to color the observations by setting `c=colors`."
   ]
  },
  {
   "cell_type": "code",
   "execution_count": 111,
   "metadata": {},
   "outputs": [],
   "source": [
    "import seaborn as sns"
   ]
  },
  {
   "cell_type": "code",
   "execution_count": 116,
   "metadata": {},
   "outputs": [
    {
     "data": {
      "image/png": "[encoded data removed]",
      "text/plain": [
       "<Figure size 432x288 with 1 Axes>"
      ]
     },
     "metadata": {
      "needs_background": "light"
     },
     "output_type": "display_data"
    }
   ],
   "source": [
    "pets_df.plot.scatter(x='pc1', y='pc2', \n",
    "                     c=colors)\n",
    "\n",
    "plt.title('Proyección PCA');"
   ]
  },
  {
   "cell_type": "markdown",
   "metadata": {},
   "source": [
    "Do you see a clear separation between cats and dogs? Write your answer below."
   ]
  },
  {
   "cell_type": "markdown",
   "metadata": {},
   "source": [
    "*No se aprecia una diferencia clara entre las fotos de perros y gatos.*\n",
    "\n",
    "*Sí que es cierto que observamos como los perros quedan más alejados del origen, mientras que los gatos se acercan más a este punto (perros arriba a la derecha y gatos abajo a la izquierda), pero esta es una separación muy difusa que nos nos permite clasificar de manera clara (al menos a priori). Es decir, la proyección del modelo nos muestra resultados poco fiables.*\n",
    "\n",
    "*Esto se puede deber a la reducción tan fuerte de dimensiones que hemos hecho mediante el PCA, lo cual nos hace perder mucha información.*"
   ]
  },
  {
   "cell_type": "markdown",
   "metadata": {},
   "source": [
    "### Extra: ¿cómo son el perro y el gato promedio?"
   ]
  },
  {
   "cell_type": "code",
   "execution_count": 137,
   "metadata": {
    "scrolled": true
   },
   "outputs": [],
   "source": [
    "# Creamos una función donde entre un array y nos devuelva la media de las filas (de los píxeles).\n",
    "\n",
    "def mean_pixel(x):\n",
    "    return np.mean(x, axis = 1)"
   ]
  },
  {
   "cell_type": "code",
   "execution_count": 138,
   "metadata": {},
   "outputs": [
    {
     "data": {
      "text/plain": [
       "<matplotlib.image.AxesImage at 0x7fda4c4202b0>"
      ]
     },
     "execution_count": 138,
     "metadata": {},
     "output_type": "execute_result"
    },
    {
     "data": {
      "image/png": "[encoded data removed]",
      "text/plain": [
       "<Figure size 432x288 with 1 Axes>"
      ]
     },
     "metadata": {
      "needs_background": "light"
     },
     "output_type": "display_data"
    }
   ],
   "source": [
    "# Mostramos el perro promedio.\n",
    "\n",
    "dog_promedio = mean_pixel(dogs)\n",
    "\n",
    "fig, ax = plt.subplots()\n",
    "ax.imshow(dog_promedio.reshape(64, 64).T, cmap=plt.cm.bone, interpolation='nearest') "
   ]
  },
  {
   "cell_type": "code",
   "execution_count": 140,
   "metadata": {},
   "outputs": [
    {
     "data": {
      "text/plain": [
       "<matplotlib.image.AxesImage at 0x7fda4c3556a0>"
      ]
     },
     "execution_count": 140,
     "metadata": {},
     "output_type": "execute_result"
    },
    {
     "data": {
      "image/png": "[encoded data removed]",
      "text/plain": [
       "<Figure size 432x288 with 1 Axes>"
      ]
     },
     "metadata": {
      "needs_background": "light"
     },
     "output_type": "display_data"
    }
   ],
   "source": [
    "# Mostramos el gato promedio.\n",
    "\n",
    "cat_promedio = mean_pixel(cats)\n",
    "\n",
    "fig, ax = plt.subplots()\n",
    "ax.imshow(cat_promedio.reshape(64, 64).T, cmap=plt.cm.bone, interpolation='nearest') "
   ]
  }
 ],
 "metadata": {
  "kernelspec": {
   "display_name": "Python 3 (ipykernel)",
   "language": "python",
   "name": "python3"
  },
  "language_info": {
   "codemirror_mode": {
    "name": "ipython",
    "version": 3
   },
   "file_extension": ".py",
   "mimetype": "text/x-python",
   "name": "python",
   "nbconvert_exporter": "python",
   "pygments_lexer": "ipython3",
   "version": "3.9.7"
  }
 },
 "nbformat": 4,
 "nbformat_minor": 2
}
