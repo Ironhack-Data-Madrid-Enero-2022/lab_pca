{
 "cells": [
  {
   "cell_type": "markdown",
   "metadata": {},
   "source": [
    "# Principal Component Analysis\n",
    "\n",
    "\n",
    "Lesson Goals\n",
    "\n",
    "In this lesson we will learn how to reduce the dimensions of our data using a technique called PCA. We will learn the theory behind this technique as well as how to implement it in Python.\n",
    "Introduction\n",
    "\n",
    "PCA is a dimensionality reduction technique that is used to transform our data. What motivates us to reduce the dimensions of our data?\n",
    "\n",
    "    We may want to speed up the performance of our model by providing it with less variables\n",
    "    We may have many columns of very sparse data. By using PCA, we have fewer columns with less sparsity. This may improve the performance of our model\n",
    "\n",
    "Creating less variables that are a function of our original data enables us to accomplish these goals.\n",
    "\n",
    "\n",
    "\n",
    "# Dimension Reduction\n",
    "\n",
    "In real life, we reduce the dimensions of things quite often while still maintaining most of the important information. For example, we are able to watch television and still understand the images even though they have been reduced from 3 dimensions to 2 dimensions. PCA is meant to reduce data such that we still retain a large amount of information about the data.\n",
    "\n",
    "\n",
    "\n",
    "# PCA in Python\n",
    "\n",
    "We will find the principal components in our data using the PCA function in statsmodels. In this example, we will be using a breast cancer dataset from the UCI data repository. This data contains 35 columns, we will retain 31 numeric columns and find the top 2 principal components of our data."
   ]
  },
  {
   "cell_type": "code",
   "execution_count": 1,
   "metadata": {},
   "outputs": [],
   "source": [
    "import numpy as np\n",
    "import pandas as pd\n",
    "from statsmodels.multivariate.pca import  PCA"
   ]
  },
  {
   "cell_type": "code",
   "execution_count": 2,
   "metadata": {},
   "outputs": [
    {
     "data": {
      "text/html": [
       "<div>\n",
       "<style scoped>\n",
       "    .dataframe tbody tr th:only-of-type {\n",
       "        vertical-align: middle;\n",
       "    }\n",
       "\n",
       "    .dataframe tbody tr th {\n",
       "        vertical-align: top;\n",
       "    }\n",
       "\n",
       "    .dataframe thead th {\n",
       "        text-align: right;\n",
       "    }\n",
       "</style>\n",
       "<table border=\"1\" class=\"dataframe\">\n",
       "  <thead>\n",
       "    <tr style=\"text-align: right;\">\n",
       "      <th></th>\n",
       "      <th>id</th>\n",
       "      <th>outcome</th>\n",
       "      <th>time</th>\n",
       "      <th>cell_1_radius</th>\n",
       "      <th>cell_1_texture</th>\n",
       "      <th>cell_1_perimiter</th>\n",
       "      <th>cell_1_area</th>\n",
       "      <th>cell_1_smoothness</th>\n",
       "      <th>cell_1_compactness</th>\n",
       "      <th>cell_1_concavity</th>\n",
       "      <th>...</th>\n",
       "      <th>cell_3_perimiter</th>\n",
       "      <th>cell_3_area</th>\n",
       "      <th>cell_3_smoothness</th>\n",
       "      <th>cell_3_compactness</th>\n",
       "      <th>cell_3_concavity</th>\n",
       "      <th>cell_3_concave_points</th>\n",
       "      <th>cell_3_symmetry</th>\n",
       "      <th>cell_3_fractal_dimension</th>\n",
       "      <th>tumor_size</th>\n",
       "      <th>lymph_status</th>\n",
       "    </tr>\n",
       "  </thead>\n",
       "  <tbody>\n",
       "    <tr>\n",
       "      <th>0</th>\n",
       "      <td>119513</td>\n",
       "      <td>N</td>\n",
       "      <td>31</td>\n",
       "      <td>18.02</td>\n",
       "      <td>27.60</td>\n",
       "      <td>117.50</td>\n",
       "      <td>1013.0</td>\n",
       "      <td>0.09489</td>\n",
       "      <td>0.1036</td>\n",
       "      <td>0.1086</td>\n",
       "      <td>...</td>\n",
       "      <td>139.70</td>\n",
       "      <td>1436.0</td>\n",
       "      <td>0.1195</td>\n",
       "      <td>0.1926</td>\n",
       "      <td>0.3140</td>\n",
       "      <td>0.1170</td>\n",
       "      <td>0.2677</td>\n",
       "      <td>0.08113</td>\n",
       "      <td>5.0</td>\n",
       "      <td>5</td>\n",
       "    </tr>\n",
       "    <tr>\n",
       "      <th>1</th>\n",
       "      <td>8423</td>\n",
       "      <td>N</td>\n",
       "      <td>61</td>\n",
       "      <td>17.99</td>\n",
       "      <td>10.38</td>\n",
       "      <td>122.80</td>\n",
       "      <td>1001.0</td>\n",
       "      <td>0.11840</td>\n",
       "      <td>0.2776</td>\n",
       "      <td>0.3001</td>\n",
       "      <td>...</td>\n",
       "      <td>184.60</td>\n",
       "      <td>2019.0</td>\n",
       "      <td>0.1622</td>\n",
       "      <td>0.6656</td>\n",
       "      <td>0.7119</td>\n",
       "      <td>0.2654</td>\n",
       "      <td>0.4601</td>\n",
       "      <td>0.11890</td>\n",
       "      <td>3.0</td>\n",
       "      <td>2</td>\n",
       "    </tr>\n",
       "    <tr>\n",
       "      <th>2</th>\n",
       "      <td>842517</td>\n",
       "      <td>N</td>\n",
       "      <td>116</td>\n",
       "      <td>21.37</td>\n",
       "      <td>17.44</td>\n",
       "      <td>137.50</td>\n",
       "      <td>1373.0</td>\n",
       "      <td>0.08836</td>\n",
       "      <td>0.1189</td>\n",
       "      <td>0.1255</td>\n",
       "      <td>...</td>\n",
       "      <td>159.10</td>\n",
       "      <td>1949.0</td>\n",
       "      <td>0.1188</td>\n",
       "      <td>0.3449</td>\n",
       "      <td>0.3414</td>\n",
       "      <td>0.2032</td>\n",
       "      <td>0.4334</td>\n",
       "      <td>0.09067</td>\n",
       "      <td>2.5</td>\n",
       "      <td>0</td>\n",
       "    </tr>\n",
       "    <tr>\n",
       "      <th>3</th>\n",
       "      <td>843483</td>\n",
       "      <td>N</td>\n",
       "      <td>123</td>\n",
       "      <td>11.42</td>\n",
       "      <td>20.38</td>\n",
       "      <td>77.58</td>\n",
       "      <td>386.1</td>\n",
       "      <td>0.14250</td>\n",
       "      <td>0.2839</td>\n",
       "      <td>0.2414</td>\n",
       "      <td>...</td>\n",
       "      <td>98.87</td>\n",
       "      <td>567.7</td>\n",
       "      <td>0.2098</td>\n",
       "      <td>0.8663</td>\n",
       "      <td>0.6869</td>\n",
       "      <td>0.2575</td>\n",
       "      <td>0.6638</td>\n",
       "      <td>0.17300</td>\n",
       "      <td>2.0</td>\n",
       "      <td>0</td>\n",
       "    </tr>\n",
       "    <tr>\n",
       "      <th>4</th>\n",
       "      <td>843584</td>\n",
       "      <td>R</td>\n",
       "      <td>27</td>\n",
       "      <td>20.29</td>\n",
       "      <td>14.34</td>\n",
       "      <td>135.10</td>\n",
       "      <td>1297.0</td>\n",
       "      <td>0.10030</td>\n",
       "      <td>0.1328</td>\n",
       "      <td>0.1980</td>\n",
       "      <td>...</td>\n",
       "      <td>152.20</td>\n",
       "      <td>1575.0</td>\n",
       "      <td>0.1374</td>\n",
       "      <td>0.2050</td>\n",
       "      <td>0.4000</td>\n",
       "      <td>0.1625</td>\n",
       "      <td>0.2364</td>\n",
       "      <td>0.07678</td>\n",
       "      <td>3.5</td>\n",
       "      <td>0</td>\n",
       "    </tr>\n",
       "  </tbody>\n",
       "</table>\n",
       "<p>5 rows × 35 columns</p>\n",
       "</div>"
      ],
      "text/plain": [
       "       id outcome  time  cell_1_radius  cell_1_texture  cell_1_perimiter  \\\n",
       "0  119513       N    31          18.02           27.60            117.50   \n",
       "1    8423       N    61          17.99           10.38            122.80   \n",
       "2  842517       N   116          21.37           17.44            137.50   \n",
       "3  843483       N   123          11.42           20.38             77.58   \n",
       "4  843584       R    27          20.29           14.34            135.10   \n",
       "\n",
       "   cell_1_area  cell_1_smoothness  cell_1_compactness  cell_1_concavity  ...  \\\n",
       "0       1013.0            0.09489              0.1036            0.1086  ...   \n",
       "1       1001.0            0.11840              0.2776            0.3001  ...   \n",
       "2       1373.0            0.08836              0.1189            0.1255  ...   \n",
       "3        386.1            0.14250              0.2839            0.2414  ...   \n",
       "4       1297.0            0.10030              0.1328            0.1980  ...   \n",
       "\n",
       "   cell_3_perimiter  cell_3_area  cell_3_smoothness  cell_3_compactness  \\\n",
       "0            139.70       1436.0             0.1195              0.1926   \n",
       "1            184.60       2019.0             0.1622              0.6656   \n",
       "2            159.10       1949.0             0.1188              0.3449   \n",
       "3             98.87        567.7             0.2098              0.8663   \n",
       "4            152.20       1575.0             0.1374              0.2050   \n",
       "\n",
       "   cell_3_concavity  cell_3_concave_points  cell_3_symmetry  \\\n",
       "0            0.3140                 0.1170           0.2677   \n",
       "1            0.7119                 0.2654           0.4601   \n",
       "2            0.3414                 0.2032           0.4334   \n",
       "3            0.6869                 0.2575           0.6638   \n",
       "4            0.4000                 0.1625           0.2364   \n",
       "\n",
       "   cell_3_fractal_dimension  tumor_size  lymph_status  \n",
       "0                   0.08113         5.0             5  \n",
       "1                   0.11890         3.0             2  \n",
       "2                   0.09067         2.5             0  \n",
       "3                   0.17300         2.0             0  \n",
       "4                   0.07678         3.5             0  \n",
       "\n",
       "[5 rows x 35 columns]"
      ]
     },
     "execution_count": 2,
     "metadata": {},
     "output_type": "execute_result"
    }
   ],
   "source": [
    "total_cols = ['id', 'outcome', 'time', 'cell_1_radius', 'cell_1_texture', 'cell_1_perimiter',\n",
    "              'cell_1_area', 'cell_1_smoothness', 'cell_1_compactness', 'cell_1_concavity',\n",
    "              'cell_1_concave_points', 'cell_1_symmetry', 'cell_1_fractal_dimension',\n",
    "              'cell_2_radius', 'cell_2_texture', 'cell_2_perimiter', 'cell_2_area',\n",
    "              'cell_2_smoothness', 'cell_2_compactness', 'cell_2_concavity',\n",
    "              'cell_2_concave_points', 'cell_2_symmetry', 'cell_2_fractal_dimension', 'cell_3_radius', \n",
    "              'cell_3_texture', 'cell_3_perimiter', 'cell_3_area', 'cell_3_smoothness',\n",
    "              'cell_3_compactness', 'cell_3_concavity', 'cell_3_concave_points', 'cell_3_symmetry',\n",
    "              'cell_3_fractal_dimension', 'tumor_size', 'lymph_status']\n",
    "\n",
    "\n",
    "breast_cancer = pd.read_csv('breast-cancer.csv', names=total_cols)\n",
    "breast_cancer.head()"
   ]
  },
  {
   "cell_type": "markdown",
   "metadata": {},
   "source": [
    "Now we will extract only the numeric columns and find the principal components using the PCA function. For this example, we will limit ourselves to only 2 components."
   ]
  },
  {
   "cell_type": "code",
   "execution_count": 3,
   "metadata": {},
   "outputs": [
    {
     "data": {
      "text/plain": [
       "(198, 2)"
      ]
     },
     "execution_count": 3,
     "metadata": {},
     "output_type": "execute_result"
    }
   ],
   "source": [
    "numeric_columns = [x for x in total_cols if x not in ['id', 'outcome', 'time', 'lymph_status']]\n",
    "\n",
    "breast_cancer_numeric = breast_cancer[numeric_columns]\n",
    "\n",
    "pca = PCA(np.array(breast_cancer_numeric), ncomp=2)\n",
    "pca.factors.shape"
   ]
  },
  {
   "cell_type": "code",
   "execution_count": null,
   "metadata": {},
   "outputs": [],
   "source": []
  },
  {
   "cell_type": "markdown",
   "metadata": {},
   "source": [
    "Let's see which columns are the significant ones with MinMaxScaler this time:"
   ]
  },
  {
   "cell_type": "code",
   "execution_count": 4,
   "metadata": {},
   "outputs": [],
   "source": [
    "from sklearn.preprocessing import MinMaxScaler\n",
    "from sklearn.decomposition import PCA\n",
    "\n",
    "import pylab as plt\n",
    "%matplotlib inline"
   ]
  },
  {
   "cell_type": "code",
   "execution_count": 5,
   "metadata": {},
   "outputs": [
    {
     "data": {
      "text/html": [
       "<div>\n",
       "<style scoped>\n",
       "    .dataframe tbody tr th:only-of-type {\n",
       "        vertical-align: middle;\n",
       "    }\n",
       "\n",
       "    .dataframe tbody tr th {\n",
       "        vertical-align: top;\n",
       "    }\n",
       "\n",
       "    .dataframe thead th {\n",
       "        text-align: right;\n",
       "    }\n",
       "</style>\n",
       "<table border=\"1\" class=\"dataframe\">\n",
       "  <thead>\n",
       "    <tr style=\"text-align: right;\">\n",
       "      <th></th>\n",
       "      <th>0</th>\n",
       "      <th>1</th>\n",
       "      <th>2</th>\n",
       "      <th>3</th>\n",
       "      <th>4</th>\n",
       "      <th>5</th>\n",
       "      <th>6</th>\n",
       "      <th>7</th>\n",
       "      <th>8</th>\n",
       "      <th>9</th>\n",
       "      <th>...</th>\n",
       "      <th>21</th>\n",
       "      <th>22</th>\n",
       "      <th>23</th>\n",
       "      <th>24</th>\n",
       "      <th>25</th>\n",
       "      <th>26</th>\n",
       "      <th>27</th>\n",
       "      <th>28</th>\n",
       "      <th>29</th>\n",
       "      <th>30</th>\n",
       "    </tr>\n",
       "  </thead>\n",
       "  <tbody>\n",
       "    <tr>\n",
       "      <th>0</th>\n",
       "      <td>0.434542</td>\n",
       "      <td>0.595848</td>\n",
       "      <td>0.413793</td>\n",
       "      <td>0.344948</td>\n",
       "      <td>0.285673</td>\n",
       "      <td>0.216883</td>\n",
       "      <td>0.210069</td>\n",
       "      <td>0.277738</td>\n",
       "      <td>0.321594</td>\n",
       "      <td>0.277177</td>\n",
       "      <td>...</td>\n",
       "      <td>0.620931</td>\n",
       "      <td>0.371176</td>\n",
       "      <td>0.273322</td>\n",
       "      <td>0.267183</td>\n",
       "      <td>0.140351</td>\n",
       "      <td>0.253067</td>\n",
       "      <td>0.336803</td>\n",
       "      <td>0.219200</td>\n",
       "      <td>0.171127</td>\n",
       "      <td>0.479167</td>\n",
       "    </tr>\n",
       "    <tr>\n",
       "      <th>1</th>\n",
       "      <td>0.432698</td>\n",
       "      <td>0.000000</td>\n",
       "      <td>0.461887</td>\n",
       "      <td>0.338594</td>\n",
       "      <td>0.622831</td>\n",
       "      <td>0.872621</td>\n",
       "      <td>0.685467</td>\n",
       "      <td>0.700923</td>\n",
       "      <td>0.641455</td>\n",
       "      <td>0.603094</td>\n",
       "      <td>...</td>\n",
       "      <td>0.020079</td>\n",
       "      <td>0.676411</td>\n",
       "      <td>0.445050</td>\n",
       "      <td>0.570687</td>\n",
       "      <td>0.610208</td>\n",
       "      <td>0.600269</td>\n",
       "      <td>0.904711</td>\n",
       "      <td>0.598462</td>\n",
       "      <td>0.418864</td>\n",
       "      <td>0.270833</td>\n",
       "    </tr>\n",
       "    <tr>\n",
       "      <th>2</th>\n",
       "      <td>0.640443</td>\n",
       "      <td>0.244291</td>\n",
       "      <td>0.595281</td>\n",
       "      <td>0.535586</td>\n",
       "      <td>0.192026</td>\n",
       "      <td>0.274543</td>\n",
       "      <td>0.252023</td>\n",
       "      <td>0.339930</td>\n",
       "      <td>0.591801</td>\n",
       "      <td>0.208731</td>\n",
       "      <td>...</td>\n",
       "      <td>0.131123</td>\n",
       "      <td>0.503059</td>\n",
       "      <td>0.424431</td>\n",
       "      <td>0.262208</td>\n",
       "      <td>0.291639</td>\n",
       "      <td>0.276976</td>\n",
       "      <td>0.666679</td>\n",
       "      <td>0.545831</td>\n",
       "      <td>0.233701</td>\n",
       "      <td>0.218750</td>\n",
       "    </tr>\n",
       "    <tr>\n",
       "      <th>3</th>\n",
       "      <td>0.028888</td>\n",
       "      <td>0.346021</td>\n",
       "      <td>0.051543</td>\n",
       "      <td>0.012974</td>\n",
       "      <td>0.968450</td>\n",
       "      <td>0.896363</td>\n",
       "      <td>0.539745</td>\n",
       "      <td>0.469291</td>\n",
       "      <td>0.744226</td>\n",
       "      <td>1.000000</td>\n",
       "      <td>...</td>\n",
       "      <td>0.299057</td>\n",
       "      <td>0.093610</td>\n",
       "      <td>0.017556</td>\n",
       "      <td>0.909020</td>\n",
       "      <td>0.809574</td>\n",
       "      <td>0.578454</td>\n",
       "      <td>0.874479</td>\n",
       "      <td>1.000000</td>\n",
       "      <td>0.773711</td>\n",
       "      <td>0.166667</td>\n",
       "    </tr>\n",
       "    <tr>\n",
       "      <th>4</th>\n",
       "      <td>0.574063</td>\n",
       "      <td>0.137024</td>\n",
       "      <td>0.573503</td>\n",
       "      <td>0.495340</td>\n",
       "      <td>0.363258</td>\n",
       "      <td>0.326927</td>\n",
       "      <td>0.432004</td>\n",
       "      <td>0.464315</td>\n",
       "      <td>0.289261</td>\n",
       "      <td>0.181818</td>\n",
       "      <td>...</td>\n",
       "      <td>0.000000</td>\n",
       "      <td>0.456152</td>\n",
       "      <td>0.314266</td>\n",
       "      <td>0.394413</td>\n",
       "      <td>0.152669</td>\n",
       "      <td>0.328109</td>\n",
       "      <td>0.510926</td>\n",
       "      <td>0.157500</td>\n",
       "      <td>0.142595</td>\n",
       "      <td>0.322917</td>\n",
       "    </tr>\n",
       "  </tbody>\n",
       "</table>\n",
       "<p>5 rows × 31 columns</p>\n",
       "</div>"
      ],
      "text/plain": [
       "         0         1         2         3         4         5         6   \\\n",
       "0  0.434542  0.595848  0.413793  0.344948  0.285673  0.216883  0.210069   \n",
       "1  0.432698  0.000000  0.461887  0.338594  0.622831  0.872621  0.685467   \n",
       "2  0.640443  0.244291  0.595281  0.535586  0.192026  0.274543  0.252023   \n",
       "3  0.028888  0.346021  0.051543  0.012974  0.968450  0.896363  0.539745   \n",
       "4  0.574063  0.137024  0.573503  0.495340  0.363258  0.326927  0.432004   \n",
       "\n",
       "         7         8         9   ...        21        22        23        24  \\\n",
       "0  0.277738  0.321594  0.277177  ...  0.620931  0.371176  0.273322  0.267183   \n",
       "1  0.700923  0.641455  0.603094  ...  0.020079  0.676411  0.445050  0.570687   \n",
       "2  0.339930  0.591801  0.208731  ...  0.131123  0.503059  0.424431  0.262208   \n",
       "3  0.469291  0.744226  1.000000  ...  0.299057  0.093610  0.017556  0.909020   \n",
       "4  0.464315  0.289261  0.181818  ...  0.000000  0.456152  0.314266  0.394413   \n",
       "\n",
       "         25        26        27        28        29        30  \n",
       "0  0.140351  0.253067  0.336803  0.219200  0.171127  0.479167  \n",
       "1  0.610208  0.600269  0.904711  0.598462  0.418864  0.270833  \n",
       "2  0.291639  0.276976  0.666679  0.545831  0.233701  0.218750  \n",
       "3  0.809574  0.578454  0.874479  1.000000  0.773711  0.166667  \n",
       "4  0.152669  0.328109  0.510926  0.157500  0.142595  0.322917  \n",
       "\n",
       "[5 rows x 31 columns]"
      ]
     },
     "execution_count": 5,
     "metadata": {},
     "output_type": "execute_result"
    }
   ],
   "source": [
    "breast_mM = MinMaxScaler().fit_transform(breast_cancer_numeric)\n",
    "\n",
    "breast_df= pd.DataFrame(breast_mM)\n",
    "breast_df.head()"
   ]
  },
  {
   "cell_type": "markdown",
   "metadata": {},
   "source": [
    "Appliying PCA:"
   ]
  },
  {
   "cell_type": "code",
   "execution_count": 21,
   "metadata": {},
   "outputs": [
    {
     "data": {
      "text/plain": [
       "PCA()"
      ]
     },
     "execution_count": 21,
     "metadata": {},
     "output_type": "execute_result"
    }
   ],
   "source": [
    "pca=PCA()\n",
    "pca.fit(breast_df)\n",
    "#pca.explained_variance_ratio_"
   ]
  },
  {
   "cell_type": "code",
   "execution_count": null,
   "metadata": {},
   "outputs": [],
   "source": []
  },
  {
   "cell_type": "code",
   "execution_count": 7,
   "metadata": {},
   "outputs": [
    {
     "data": {
      "text/plain": [
       "0.9999999999999999"
      ]
     },
     "execution_count": 7,
     "metadata": {},
     "output_type": "execute_result"
    }
   ],
   "source": [
    "sum(pca.explained_variance_ratio_) #Almost 1 ;)"
   ]
  },
  {
   "cell_type": "code",
   "execution_count": 8,
   "metadata": {},
   "outputs": [
    {
     "data": {
      "text/plain": [
       "0.6014582794594291"
      ]
     },
     "execution_count": 8,
     "metadata": {},
     "output_type": "execute_result"
    }
   ],
   "source": [
    "sum(pca.explained_variance_ratio_[:2])#3 columns explain 60% of variance"
   ]
  },
  {
   "cell_type": "code",
   "execution_count": 9,
   "metadata": {},
   "outputs": [
    {
     "data": {
      "text/plain": [
       "0.6981847304671952"
      ]
     },
     "execution_count": 9,
     "metadata": {},
     "output_type": "execute_result"
    }
   ],
   "source": [
    "sum(pca.explained_variance_ratio_[:3]) #4 columns explain almost 70% of variance"
   ]
  },
  {
   "cell_type": "markdown",
   "metadata": {},
   "source": [
    "Let's see variance depending on the columns used:"
   ]
  },
  {
   "cell_type": "code",
   "execution_count": 10,
   "metadata": {},
   "outputs": [
    {
     "data": {
      "image/png": "[encoded data removed]",
      "text/plain": [
       "<Figure size 720x360 with 1 Axes>"
      ]
     },
     "metadata": {
      "needs_background": "light"
     },
     "output_type": "display_data"
    }
   ],
   "source": [
    "plt.figure(figsize=(10, 5))\n",
    "\n",
    "plt.plot(np.cumsum(pca.explained_variance_ratio_))\n",
    "\n",
    "plt.xlabel('Columnas')\n",
    "plt.ylabel('% varianza')\n",
    "plt.ylim([0, 1.01]);"
   ]
  },
  {
   "cell_type": "code",
   "execution_count": 11,
   "metadata": {},
   "outputs": [
    {
     "data": {
      "text/plain": [
       "0.6014582794594291"
      ]
     },
     "execution_count": 11,
     "metadata": {},
     "output_type": "execute_result"
    }
   ],
   "source": [
    "sum(pca.explained_variance_ratio_[:2])"
   ]
  },
  {
   "cell_type": "markdown",
   "metadata": {},
   "source": [
    "Standardizing:"
   ]
  },
  {
   "cell_type": "code",
   "execution_count": 12,
   "metadata": {},
   "outputs": [],
   "source": [
    "def standardize(x): #function to standardize\n",
    "    mean = np.mean(x, axis=0)\n",
    "    std_dev = np.std(x, axis=0)\n",
    "    return (x-mean)/std_dev   "
   ]
  },
  {
   "cell_type": "code",
   "execution_count": 13,
   "metadata": {},
   "outputs": [
    {
     "data": {
      "text/plain": [
       "(198, 31)"
      ]
     },
     "execution_count": 13,
     "metadata": {},
     "output_type": "execute_result"
    }
   ],
   "source": [
    "breast_stdized = standardize(breast_cancer_numeric)\n",
    "breast_stdized.shape"
   ]
  },
  {
   "cell_type": "code",
   "execution_count": 16,
   "metadata": {},
   "outputs": [
    {
     "data": {
      "text/plain": [
       "(31, 198)"
      ]
     },
     "execution_count": 16,
     "metadata": {},
     "output_type": "execute_result"
    }
   ],
   "source": [
    "breast_stdized_trans = breast_stdized.transpose()\n",
    "breast_stdized_trans.shape"
   ]
  },
  {
   "cell_type": "code",
   "execution_count": 25,
   "metadata": {},
   "outputs": [
    {
     "data": {
      "text/plain": [
       "Index(['cell_1_radius', 'cell_1_texture', 'cell_1_perimiter', 'cell_1_area',\n",
       "       'cell_1_smoothness', 'cell_1_compactness', 'cell_1_concavity',\n",
       "       'cell_1_concave_points', 'cell_1_symmetry', 'cell_1_fractal_dimension',\n",
       "       'cell_2_radius', 'cell_2_texture', 'cell_2_perimiter', 'cell_2_area',\n",
       "       'cell_2_smoothness', 'cell_2_compactness', 'cell_2_concavity',\n",
       "       'cell_2_concave_points', 'cell_2_symmetry', 'cell_2_fractal_dimension',\n",
       "       'cell_3_radius', 'cell_3_texture', 'cell_3_perimiter', 'cell_3_area',\n",
       "       'cell_3_smoothness', 'cell_3_compactness', 'cell_3_concavity',\n",
       "       'cell_3_concave_points', 'cell_3_symmetry', 'cell_3_fractal_dimension',\n",
       "       'tumor_size'],\n",
       "      dtype='object')"
      ]
     },
     "execution_count": 25,
     "metadata": {},
     "output_type": "execute_result"
    }
   ],
   "source": [
    "breast_cancer_numeric.columns"
   ]
  },
  {
   "cell_type": "code",
   "execution_count": null,
   "metadata": {},
   "outputs": [],
   "source": []
  },
  {
   "cell_type": "code",
   "execution_count": 20,
   "metadata": {},
   "outputs": [
    {
     "ename": "IndexError",
     "evalue": "Inconsistent shape between the condition and the input (got (31, 1) and (31,))",
     "output_type": "error",
     "traceback": [
      "\u001b[0;31m---------------------------------------------------------------------------\u001b[0m",
      "\u001b[0;31mIndexError\u001b[0m                                Traceback (most recent call last)",
      "\u001b[0;32m/tmp/ipykernel_224558/3410149991.py\u001b[0m in \u001b[0;36m<module>\u001b[0;34m\u001b[0m\n\u001b[1;32m      1\u001b[0m \u001b[0;32mimport\u001b[0m \u001b[0mseaborn\u001b[0m \u001b[0;32mas\u001b[0m \u001b[0msns\u001b[0m\u001b[0;34m\u001b[0m\u001b[0;34m\u001b[0m\u001b[0m\n\u001b[1;32m      2\u001b[0m \u001b[0;34m\u001b[0m\u001b[0m\n\u001b[0;32m----> 3\u001b[0;31m sns.heatmap(['cell_1_radius', 'cell_1_texture', 'cell_1_perimiter', 'cell_1_area',\n\u001b[0m\u001b[1;32m      4\u001b[0m        \u001b[0;34m'cell_1_smoothness'\u001b[0m\u001b[0;34m,\u001b[0m \u001b[0;34m'cell_1_compactness'\u001b[0m\u001b[0;34m,\u001b[0m \u001b[0;34m'cell_1_concavity'\u001b[0m\u001b[0;34m,\u001b[0m\u001b[0;34m\u001b[0m\u001b[0;34m\u001b[0m\u001b[0m\n\u001b[1;32m      5\u001b[0m        \u001b[0;34m'cell_1_concave_points'\u001b[0m\u001b[0;34m,\u001b[0m \u001b[0;34m'cell_1_symmetry'\u001b[0m\u001b[0;34m,\u001b[0m \u001b[0;34m'cell_1_fractal_dimension'\u001b[0m\u001b[0;34m,\u001b[0m\u001b[0;34m\u001b[0m\u001b[0;34m\u001b[0m\u001b[0m\n",
      "\u001b[0;32m~/miniconda3/envs/ironhack/lib/python3.9/site-packages/seaborn/_decorators.py\u001b[0m in \u001b[0;36minner_f\u001b[0;34m(*args, **kwargs)\u001b[0m\n\u001b[1;32m     44\u001b[0m             )\n\u001b[1;32m     45\u001b[0m         \u001b[0mkwargs\u001b[0m\u001b[0;34m.\u001b[0m\u001b[0mupdate\u001b[0m\u001b[0;34m(\u001b[0m\u001b[0;34m{\u001b[0m\u001b[0mk\u001b[0m\u001b[0;34m:\u001b[0m \u001b[0marg\u001b[0m \u001b[0;32mfor\u001b[0m \u001b[0mk\u001b[0m\u001b[0;34m,\u001b[0m \u001b[0marg\u001b[0m \u001b[0;32min\u001b[0m \u001b[0mzip\u001b[0m\u001b[0;34m(\u001b[0m\u001b[0msig\u001b[0m\u001b[0;34m.\u001b[0m\u001b[0mparameters\u001b[0m\u001b[0;34m,\u001b[0m \u001b[0margs\u001b[0m\u001b[0;34m)\u001b[0m\u001b[0;34m}\u001b[0m\u001b[0;34m)\u001b[0m\u001b[0;34m\u001b[0m\u001b[0;34m\u001b[0m\u001b[0m\n\u001b[0;32m---> 46\u001b[0;31m         \u001b[0;32mreturn\u001b[0m \u001b[0mf\u001b[0m\u001b[0;34m(\u001b[0m\u001b[0;34m**\u001b[0m\u001b[0mkwargs\u001b[0m\u001b[0;34m)\u001b[0m\u001b[0;34m\u001b[0m\u001b[0;34m\u001b[0m\u001b[0m\n\u001b[0m\u001b[1;32m     47\u001b[0m     \u001b[0;32mreturn\u001b[0m \u001b[0minner_f\u001b[0m\u001b[0;34m\u001b[0m\u001b[0;34m\u001b[0m\u001b[0m\n\u001b[1;32m     48\u001b[0m \u001b[0;34m\u001b[0m\u001b[0m\n",
      "\u001b[0;32m~/miniconda3/envs/ironhack/lib/python3.9/site-packages/seaborn/matrix.py\u001b[0m in \u001b[0;36mheatmap\u001b[0;34m(data, vmin, vmax, cmap, center, robust, annot, fmt, annot_kws, linewidths, linecolor, cbar, cbar_kws, cbar_ax, square, xticklabels, yticklabels, mask, ax, **kwargs)\u001b[0m\n\u001b[1;32m    538\u001b[0m     \"\"\"\n\u001b[1;32m    539\u001b[0m     \u001b[0;31m# Initialize the plotter object\u001b[0m\u001b[0;34m\u001b[0m\u001b[0;34m\u001b[0m\u001b[0m\n\u001b[0;32m--> 540\u001b[0;31m     plotter = _HeatMapper(data, vmin, vmax, cmap, center, robust, annot, fmt,\n\u001b[0m\u001b[1;32m    541\u001b[0m                           \u001b[0mannot_kws\u001b[0m\u001b[0;34m,\u001b[0m \u001b[0mcbar\u001b[0m\u001b[0;34m,\u001b[0m \u001b[0mcbar_kws\u001b[0m\u001b[0;34m,\u001b[0m \u001b[0mxticklabels\u001b[0m\u001b[0;34m,\u001b[0m\u001b[0;34m\u001b[0m\u001b[0;34m\u001b[0m\u001b[0m\n\u001b[1;32m    542\u001b[0m                           yticklabels, mask)\n",
      "\u001b[0;32m~/miniconda3/envs/ironhack/lib/python3.9/site-packages/seaborn/matrix.py\u001b[0m in \u001b[0;36m__init__\u001b[0;34m(self, data, vmin, vmax, cmap, center, robust, annot, fmt, annot_kws, cbar, cbar_kws, xticklabels, yticklabels, mask)\u001b[0m\n\u001b[1;32m    109\u001b[0m         \u001b[0mmask\u001b[0m \u001b[0;34m=\u001b[0m \u001b[0m_matrix_mask\u001b[0m\u001b[0;34m(\u001b[0m\u001b[0mdata\u001b[0m\u001b[0;34m,\u001b[0m \u001b[0mmask\u001b[0m\u001b[0;34m)\u001b[0m\u001b[0;34m\u001b[0m\u001b[0;34m\u001b[0m\u001b[0m\n\u001b[1;32m    110\u001b[0m \u001b[0;34m\u001b[0m\u001b[0m\n\u001b[0;32m--> 111\u001b[0;31m         \u001b[0mplot_data\u001b[0m \u001b[0;34m=\u001b[0m \u001b[0mnp\u001b[0m\u001b[0;34m.\u001b[0m\u001b[0mma\u001b[0m\u001b[0;34m.\u001b[0m\u001b[0mmasked_where\u001b[0m\u001b[0;34m(\u001b[0m\u001b[0mnp\u001b[0m\u001b[0;34m.\u001b[0m\u001b[0masarray\u001b[0m\u001b[0;34m(\u001b[0m\u001b[0mmask\u001b[0m\u001b[0;34m)\u001b[0m\u001b[0;34m,\u001b[0m \u001b[0mplot_data\u001b[0m\u001b[0;34m)\u001b[0m\u001b[0;34m\u001b[0m\u001b[0;34m\u001b[0m\u001b[0m\n\u001b[0m\u001b[1;32m    112\u001b[0m \u001b[0;34m\u001b[0m\u001b[0m\n\u001b[1;32m    113\u001b[0m         \u001b[0;31m# Get good names for the rows and columns\u001b[0m\u001b[0;34m\u001b[0m\u001b[0;34m\u001b[0m\u001b[0m\n",
      "\u001b[0;32m~/miniconda3/envs/ironhack/lib/python3.9/site-packages/numpy/ma/core.py\u001b[0m in \u001b[0;36mmasked_where\u001b[0;34m(condition, a, copy)\u001b[0m\n\u001b[1;32m   1924\u001b[0m     \u001b[0;34m(\u001b[0m\u001b[0mcshape\u001b[0m\u001b[0;34m,\u001b[0m \u001b[0mashape\u001b[0m\u001b[0;34m)\u001b[0m \u001b[0;34m=\u001b[0m \u001b[0;34m(\u001b[0m\u001b[0mcond\u001b[0m\u001b[0;34m.\u001b[0m\u001b[0mshape\u001b[0m\u001b[0;34m,\u001b[0m \u001b[0ma\u001b[0m\u001b[0;34m.\u001b[0m\u001b[0mshape\u001b[0m\u001b[0;34m)\u001b[0m\u001b[0;34m\u001b[0m\u001b[0;34m\u001b[0m\u001b[0m\n\u001b[1;32m   1925\u001b[0m     \u001b[0;32mif\u001b[0m \u001b[0mcshape\u001b[0m \u001b[0;32mand\u001b[0m \u001b[0mcshape\u001b[0m \u001b[0;34m!=\u001b[0m \u001b[0mashape\u001b[0m\u001b[0;34m:\u001b[0m\u001b[0;34m\u001b[0m\u001b[0;34m\u001b[0m\u001b[0m\n\u001b[0;32m-> 1926\u001b[0;31m         raise IndexError(\"Inconsistent shape between the condition and the input\"\n\u001b[0m\u001b[1;32m   1927\u001b[0m                          \" (got %s and %s)\" % (cshape, ashape))\n\u001b[1;32m   1928\u001b[0m     \u001b[0;32mif\u001b[0m \u001b[0mhasattr\u001b[0m\u001b[0;34m(\u001b[0m\u001b[0ma\u001b[0m\u001b[0;34m,\u001b[0m \u001b[0;34m'_mask'\u001b[0m\u001b[0;34m)\u001b[0m\u001b[0;34m:\u001b[0m\u001b[0;34m\u001b[0m\u001b[0;34m\u001b[0m\u001b[0m\n",
      "\u001b[0;31mIndexError\u001b[0m: Inconsistent shape between the condition and the input (got (31, 1) and (31,))"
     ]
    }
   ],
   "source": [
    "sns.features(['cell_1_radius', 'cell_1_texture', 'cell_1_perimiter', 'cell_1_area',\n",
    "       'cell_1_smoothness', 'cell_1_compactness', 'cell_1_concavity',\n",
    "       'cell_1_concave_points', 'cell_1_symmetry', 'cell_1_fractal_dimension',\n",
    "       'cell_2_radius', 'cell_2_texture', 'cell_2_perimiter', 'cell_2_area',\n",
    "       'cell_2_smoothness', 'cell_2_compactness', 'cell_2_concavity',\n",
    "       'cell_2_concave_points', 'cell_2_symmetry', 'cell_2_fractal_dimension',\n",
    "       'cell_3_radius', 'cell_3_texture', 'cell_3_perimiter', 'cell_3_area',\n",
    "       'cell_3_smoothness', 'cell_3_compactness', 'cell_3_concavity',\n",
    "       'cell_3_concave_points', 'cell_3_symmetry', 'cell_3_fractal_dimension',\n",
    "       'tumor_size'], axis = 1)"
   ]
  },
  {
   "cell_type": "code",
   "execution_count": null,
   "metadata": {},
   "outputs": [],
   "source": []
  }
 ],
 "metadata": {
  "kernelspec": {
   "display_name": "Python 3 (ipykernel)",
   "language": "python",
   "name": "python3"
  },
  "language_info": {
   "codemirror_mode": {
    "name": "ipython",
    "version": 3
   },
   "file_extension": ".py",
   "mimetype": "text/x-python",
   "name": "python",
   "nbconvert_exporter": "python",
   "pygments_lexer": "ipython3",
   "version": "3.9.7"
  }
 },
 "nbformat": 4,
 "nbformat_minor": 2
}
