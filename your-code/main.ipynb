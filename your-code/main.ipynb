{
 "cells": [
  {
   "cell_type": "markdown",
   "metadata": {},
   "source": [
    "# Before your start:\n",
    "- Read the README.md file\n",
    "- Comment as much as you can and use the resources (README.md file)\n",
    "- Happy learning!"
   ]
  },
  {
   "cell_type": "code",
   "execution_count": 1,
   "metadata": {},
   "outputs": [],
   "source": [
    "# Run this code:\n",
    "\n",
    "%matplotlib inline\n",
    "\n",
    "import matplotlib.pyplot as plt"
   ]
  },
  {
   "cell_type": "code",
   "execution_count": 2,
   "metadata": {},
   "outputs": [],
   "source": [
    "# Import numpy and pandas:\n",
    "\n",
    "import pandas as pd\n",
    "import numpy as np"
   ]
  },
  {
   "cell_type": "markdown",
   "metadata": {},
   "source": [
    "# Challenge 1 - Reading and Standardizing the Data\n",
    "\n",
    "In this challenge we will work with image data and reduce the dimensions of the data to create a 2 dimensional plot. While we have not worked much with image data before, it can be represented as a numpy array where each pixel is assigned a numeric value. In this lesson, we will look at a dataset of cats and a dataset of dogs and see whether reducing them to two dimensions allows us to see if the data is separable. We will start by loading and processing the data. Run the cell below to load the two csv files and convert them into numpy arrays."
   ]
  },
  {
   "cell_type": "code",
   "execution_count": 3,
   "metadata": {},
   "outputs": [],
   "source": [
    "# Run this code\n",
    "\n",
    "cats = np.array(pd.read_csv(\"https://raw.githubusercontent.com/bioramble/pca/master/cat.csv\", header=None))\n",
    "dogs = np.array(pd.read_csv(\"https://raw.githubusercontent.com/bioramble/pca/master/dog.csv\", header=None))"
   ]
  },
  {
   "cell_type": "markdown",
   "metadata": {},
   "source": [
    "Next, we'll examine the shape of both the cats and the dogs arrays. Print out both shapes below."
   ]
  },
  {
   "cell_type": "code",
   "execution_count": 5,
   "metadata": {},
   "outputs": [
    {
     "data": {
      "text/plain": [
       "(4096, 80)"
      ]
     },
     "execution_count": 5,
     "metadata": {},
     "output_type": "execute_result"
    }
   ],
   "source": [
    "# Your code here:\n",
    "cats.shape\n"
   ]
  },
  {
   "cell_type": "code",
   "execution_count": 6,
   "metadata": {},
   "outputs": [
    {
     "data": {
      "text/plain": [
       "(4096, 80)"
      ]
     },
     "execution_count": 6,
     "metadata": {},
     "output_type": "execute_result"
    }
   ],
   "source": [
    "dogs.shape\n"
   ]
  },
  {
   "cell_type": "markdown",
   "metadata": {},
   "source": [
    "What this means is that both arrays contain 80 images each (the number of columns). Each image is comprised of 64x64 pixels (so a total of 4096 pixels per image). The images have been flattened such that all 4096 are in a single row.\n",
    "\n",
    "Print out column 0 of the cats array to see what the pixels values look like."
   ]
  },
  {
   "cell_type": "code",
   "execution_count": 11,
   "metadata": {},
   "outputs": [
    {
     "data": {
      "text/plain": [
       "array([64, 64, 64, ..., 64, 64, 61])"
      ]
     },
     "execution_count": 11,
     "metadata": {},
     "output_type": "execute_result"
    }
   ],
   "source": [
    "# Your code here:\n",
    "cats[:,0]\n"
   ]
  },
  {
   "cell_type": "markdown",
   "metadata": {},
   "source": [
    "Using `matplotlib` we can plot a single cat or a single dog. We do this by reshaping the vector back to a 64x64 image and then using the `imshow` function.\n",
    "\n",
    "Run the code below to look at the first dog and the first cat."
   ]
  },
  {
   "cell_type": "code",
   "execution_count": 8,
   "metadata": {},
   "outputs": [
    {
     "data": {
      "text/plain": [
       "<matplotlib.image.AxesImage at 0x7fa7c9e58a60>"
      ]
     },
     "execution_count": 8,
     "metadata": {},
     "output_type": "execute_result"
    },
    {
     "data": {
      "image/png": "[encoded data removed]",
      "text/plain": [
       "<Figure size 432x288 with 1 Axes>"
      ]
     },
     "metadata": {
      "needs_background": "light"
     },
     "output_type": "display_data"
    }
   ],
   "source": [
    "# Run this code:\n",
    "\n",
    "fig, ax = plt.subplots()\n",
    "ax.imshow(cats[:,0].reshape(64, 64).T, cmap=plt.cm.bone, interpolation='nearest') "
   ]
  },
  {
   "cell_type": "code",
   "execution_count": 9,
   "metadata": {},
   "outputs": [
    {
     "data": {
      "text/plain": [
       "<matplotlib.image.AxesImage at 0x7fa7c9cfbb50>"
      ]
     },
     "execution_count": 9,
     "metadata": {},
     "output_type": "execute_result"
    },
    {
     "data": {
      "image/png": "[encoded data removed]",
      "text/plain": [
       "<Figure size 432x288 with 1 Axes>"
      ]
     },
     "metadata": {
      "needs_background": "light"
     },
     "output_type": "display_data"
    }
   ],
   "source": [
    "# Run this code:\n",
    "\n",
    "fig, ax = plt.subplots()\n",
    "ax.imshow(dogs[:,0].reshape(64, 64).T, cmap=plt.cm.bone, interpolation='nearest') "
   ]
  },
  {
   "cell_type": "markdown",
   "metadata": {},
   "source": [
    "Next, we would like to create a standardization function. This function will find the mean and standard deviation of each image. We subtract the mean from each pixel and divide each pixel by the standard deviation. Write the function below.\n",
    "\n",
    "Hint: To find the mean and standard deviation of each image, use `numpy`'s version of mean and stadnard deviation and use `axis=0`."
   ]
  },
  {
   "cell_type": "code",
   "execution_count": 31,
   "metadata": {},
   "outputs": [],
   "source": [
    "def standardize(x):\n",
    "    #This function takes as input a numpy array and returns a stadardized numpy array of the same dimensions.\n",
    "    #Sample input: np.array([[1,2,3],[4,5,6]])\n",
    "    #Sample output: np.array([[-1,-1,-1],[1,1,1]])\n",
    "    \n",
    "    # Your code here:\n",
    "    x=((x-np.mean(x,axis=0))/np.std(x,axis=0))\n",
    "    return x"
   ]
  },
  {
   "cell_type": "code",
   "execution_count": 32,
   "metadata": {},
   "outputs": [
    {
     "data": {
      "text/plain": [
       "array([[-1., -1., -1.],\n",
       "       [ 1.,  1.,  1.]])"
      ]
     },
     "execution_count": 32,
     "metadata": {},
     "output_type": "execute_result"
    }
   ],
   "source": [
    "standardize([[1,2,3],[4,5,6]])"
   ]
  },
  {
   "cell_type": "code",
   "execution_count": 13,
   "metadata": {},
   "outputs": [
    {
     "data": {
      "text/plain": [
       "66.03900556912721"
      ]
     },
     "execution_count": 13,
     "metadata": {},
     "output_type": "execute_result"
    }
   ],
   "source": [
    "np.std(cats)"
   ]
  },
  {
   "cell_type": "code",
   "execution_count": 33,
   "metadata": {},
   "outputs": [],
   "source": [
    "caty=standardize(cats)"
   ]
  },
  {
   "cell_type": "code",
   "execution_count": 34,
   "metadata": {},
   "outputs": [],
   "source": [
    "dogy=standardize(dogs)"
   ]
  },
  {
   "cell_type": "markdown",
   "metadata": {},
   "source": [
    "Now, use the `np.concatenate` function to combine the cats and dogs arrays. Use `axis=1` to combine the two correctly. Make sure to put dogs first."
   ]
  },
  {
   "cell_type": "code",
   "execution_count": 38,
   "metadata": {},
   "outputs": [],
   "source": [
    "# Your code here:\n",
    "\n",
    "conc=np.concatenate([dogy, caty], axis=1)"
   ]
  },
  {
   "cell_type": "markdown",
   "metadata": {},
   "source": [
    "Standardize the concatenated array below."
   ]
  },
  {
   "cell_type": "code",
   "execution_count": 40,
   "metadata": {},
   "outputs": [
    {
     "data": {
      "text/html": [
       "<div>\n",
       "<style scoped>\n",
       "    .dataframe tbody tr th:only-of-type {\n",
       "        vertical-align: middle;\n",
       "    }\n",
       "\n",
       "    .dataframe tbody tr th {\n",
       "        vertical-align: top;\n",
       "    }\n",
       "\n",
       "    .dataframe thead th {\n",
       "        text-align: right;\n",
       "    }\n",
       "</style>\n",
       "<table border=\"1\" class=\"dataframe\">\n",
       "  <thead>\n",
       "    <tr style=\"text-align: right;\">\n",
       "      <th></th>\n",
       "      <th>0</th>\n",
       "      <th>1</th>\n",
       "      <th>2</th>\n",
       "      <th>3</th>\n",
       "      <th>4</th>\n",
       "      <th>5</th>\n",
       "      <th>6</th>\n",
       "      <th>7</th>\n",
       "      <th>8</th>\n",
       "      <th>9</th>\n",
       "      <th>...</th>\n",
       "      <th>150</th>\n",
       "      <th>151</th>\n",
       "      <th>152</th>\n",
       "      <th>153</th>\n",
       "      <th>154</th>\n",
       "      <th>155</th>\n",
       "      <th>156</th>\n",
       "      <th>157</th>\n",
       "      <th>158</th>\n",
       "      <th>159</th>\n",
       "    </tr>\n",
       "  </thead>\n",
       "  <tbody>\n",
       "    <tr>\n",
       "      <th>0</th>\n",
       "      <td>2.376629</td>\n",
       "      <td>-0.307530</td>\n",
       "      <td>0.932549</td>\n",
       "      <td>-0.305156</td>\n",
       "      <td>0.587798</td>\n",
       "      <td>-1.241067</td>\n",
       "      <td>0.401740</td>\n",
       "      <td>-1.038295</td>\n",
       "      <td>-0.240936</td>\n",
       "      <td>1.189516</td>\n",
       "      <td>...</td>\n",
       "      <td>0.081991</td>\n",
       "      <td>-1.752138</td>\n",
       "      <td>-0.259299</td>\n",
       "      <td>-0.133393</td>\n",
       "      <td>1.039565</td>\n",
       "      <td>-1.048562</td>\n",
       "      <td>-1.763844</td>\n",
       "      <td>-1.808174</td>\n",
       "      <td>1.422935</td>\n",
       "      <td>-0.203640</td>\n",
       "    </tr>\n",
       "    <tr>\n",
       "      <th>1</th>\n",
       "      <td>2.376629</td>\n",
       "      <td>-0.405003</td>\n",
       "      <td>1.156817</td>\n",
       "      <td>-0.327394</td>\n",
       "      <td>0.403992</td>\n",
       "      <td>-1.360485</td>\n",
       "      <td>0.401740</td>\n",
       "      <td>-1.159336</td>\n",
       "      <td>-0.240936</td>\n",
       "      <td>1.189516</td>\n",
       "      <td>...</td>\n",
       "      <td>-0.006427</td>\n",
       "      <td>-1.412425</td>\n",
       "      <td>-0.426014</td>\n",
       "      <td>-0.302394</td>\n",
       "      <td>1.119440</td>\n",
       "      <td>-1.001034</td>\n",
       "      <td>-1.691524</td>\n",
       "      <td>-2.064598</td>\n",
       "      <td>1.440367</td>\n",
       "      <td>-0.054376</td>\n",
       "    </tr>\n",
       "    <tr>\n",
       "      <th>2</th>\n",
       "      <td>2.376629</td>\n",
       "      <td>-0.683497</td>\n",
       "      <td>0.932549</td>\n",
       "      <td>-0.327394</td>\n",
       "      <td>0.403992</td>\n",
       "      <td>-1.466635</td>\n",
       "      <td>0.592258</td>\n",
       "      <td>-1.613241</td>\n",
       "      <td>-0.299628</td>\n",
       "      <td>1.189516</td>\n",
       "      <td>...</td>\n",
       "      <td>-0.912714</td>\n",
       "      <td>-1.644860</td>\n",
       "      <td>-0.521279</td>\n",
       "      <td>-1.316396</td>\n",
       "      <td>0.863842</td>\n",
       "      <td>-0.953506</td>\n",
       "      <td>-1.763844</td>\n",
       "      <td>-1.731246</td>\n",
       "      <td>1.457799</td>\n",
       "      <td>-0.079254</td>\n",
       "    </tr>\n",
       "    <tr>\n",
       "      <th>3</th>\n",
       "      <td>2.272642</td>\n",
       "      <td>-0.794895</td>\n",
       "      <td>1.156817</td>\n",
       "      <td>-0.727689</td>\n",
       "      <td>0.587798</td>\n",
       "      <td>-1.466635</td>\n",
       "      <td>0.363636</td>\n",
       "      <td>-1.855323</td>\n",
       "      <td>-0.240936</td>\n",
       "      <td>1.385804</td>\n",
       "      <td>...</td>\n",
       "      <td>-0.205368</td>\n",
       "      <td>-1.823657</td>\n",
       "      <td>-0.640361</td>\n",
       "      <td>-1.919969</td>\n",
       "      <td>0.959691</td>\n",
       "      <td>-0.882215</td>\n",
       "      <td>-1.583044</td>\n",
       "      <td>-1.987671</td>\n",
       "      <td>1.544961</td>\n",
       "      <td>-0.104131</td>\n",
       "    </tr>\n",
       "    <tr>\n",
       "      <th>4</th>\n",
       "      <td>2.376629</td>\n",
       "      <td>-0.892368</td>\n",
       "      <td>2.627023</td>\n",
       "      <td>-1.016790</td>\n",
       "      <td>0.934988</td>\n",
       "      <td>-1.360485</td>\n",
       "      <td>-0.360334</td>\n",
       "      <td>-1.855323</td>\n",
       "      <td>-0.299628</td>\n",
       "      <td>1.385804</td>\n",
       "      <td>...</td>\n",
       "      <td>0.457768</td>\n",
       "      <td>-1.770018</td>\n",
       "      <td>-0.640361</td>\n",
       "      <td>-0.133393</td>\n",
       "      <td>1.343087</td>\n",
       "      <td>-0.858451</td>\n",
       "      <td>-1.872325</td>\n",
       "      <td>-2.244095</td>\n",
       "      <td>1.597258</td>\n",
       "      <td>0.020255</td>\n",
       "    </tr>\n",
       "  </tbody>\n",
       "</table>\n",
       "<p>5 rows × 160 columns</p>\n",
       "</div>"
      ],
      "text/plain": [
       "        0         1         2         3         4         5         6    \\\n",
       "0  2.376629 -0.307530  0.932549 -0.305156  0.587798 -1.241067  0.401740   \n",
       "1  2.376629 -0.405003  1.156817 -0.327394  0.403992 -1.360485  0.401740   \n",
       "2  2.376629 -0.683497  0.932549 -0.327394  0.403992 -1.466635  0.592258   \n",
       "3  2.272642 -0.794895  1.156817 -0.727689  0.587798 -1.466635  0.363636   \n",
       "4  2.376629 -0.892368  2.627023 -1.016790  0.934988 -1.360485 -0.360334   \n",
       "\n",
       "        7         8         9    ...       150       151       152       153  \\\n",
       "0 -1.038295 -0.240936  1.189516  ...  0.081991 -1.752138 -0.259299 -0.133393   \n",
       "1 -1.159336 -0.240936  1.189516  ... -0.006427 -1.412425 -0.426014 -0.302394   \n",
       "2 -1.613241 -0.299628  1.189516  ... -0.912714 -1.644860 -0.521279 -1.316396   \n",
       "3 -1.855323 -0.240936  1.385804  ... -0.205368 -1.823657 -0.640361 -1.919969   \n",
       "4 -1.855323 -0.299628  1.385804  ...  0.457768 -1.770018 -0.640361 -0.133393   \n",
       "\n",
       "        154       155       156       157       158       159  \n",
       "0  1.039565 -1.048562 -1.763844 -1.808174  1.422935 -0.203640  \n",
       "1  1.119440 -1.001034 -1.691524 -2.064598  1.440367 -0.054376  \n",
       "2  0.863842 -0.953506 -1.763844 -1.731246  1.457799 -0.079254  \n",
       "3  0.959691 -0.882215 -1.583044 -1.987671  1.544961 -0.104131  \n",
       "4  1.343087 -0.858451 -1.872325 -2.244095  1.597258  0.020255  \n",
       "\n",
       "[5 rows x 160 columns]"
      ]
     },
     "execution_count": 40,
     "metadata": {},
     "output_type": "execute_result"
    }
   ],
   "source": [
    "# Your code here:\n",
    "from sklearn.preprocessing import StandardScaler, MinMaxScaler\n",
    "data=StandardScaler().fit_transform(conc)\n",
    "\n",
    "data=pd.DataFrame(data)\n",
    "\n",
    "data.head()"
   ]
  },
  {
   "cell_type": "markdown",
   "metadata": {},
   "source": [
    "# Challenge 2 - Using PCA\n",
    "\n",
    "Now that we have created a standardized matrix of cats and dogs, we'll find the two most important components in the data.\n",
    "\n",
    "Load the `PCA` function from `statsmodels` (read about this function [here](https://www.statsmodels.org/dev/generated/statsmodels.multivariate.pca.PCA.html)) and apply the function to our standarized data. Create a PCA model with two components."
   ]
  },
  {
   "cell_type": "code",
   "execution_count": 51,
   "metadata": {},
   "outputs": [
    {
     "data": {
      "text/plain": [
       "(4096, 2)"
      ]
     },
     "execution_count": 51,
     "metadata": {},
     "output_type": "execute_result"
    }
   ],
   "source": [
    "# Your code here:\n",
    "import numpy as np\n",
    "from statsmodels.multivariate.pca import PCA\n",
    "pca = PCA(data, ncomp=2, method='nipals')\n",
    "pcdata = pca.factors\n",
    "pcdata.shape\n"
   ]
  },
  {
   "cell_type": "markdown",
   "metadata": {},
   "source": [
    "Use `numpy` to find to transpose the standardized pet array. This will help us compute the projection."
   ]
  },
  {
   "cell_type": "code",
   "execution_count": 52,
   "metadata": {},
   "outputs": [
    {
     "data": {
      "text/html": [
       "<div>\n",
       "<style scoped>\n",
       "    .dataframe tbody tr th:only-of-type {\n",
       "        vertical-align: middle;\n",
       "    }\n",
       "\n",
       "    .dataframe tbody tr th {\n",
       "        vertical-align: top;\n",
       "    }\n",
       "\n",
       "    .dataframe thead th {\n",
       "        text-align: right;\n",
       "    }\n",
       "</style>\n",
       "<table border=\"1\" class=\"dataframe\">\n",
       "  <thead>\n",
       "    <tr style=\"text-align: right;\">\n",
       "      <th></th>\n",
       "      <th>0</th>\n",
       "      <th>1</th>\n",
       "      <th>2</th>\n",
       "      <th>3</th>\n",
       "      <th>4</th>\n",
       "      <th>5</th>\n",
       "      <th>6</th>\n",
       "      <th>7</th>\n",
       "      <th>8</th>\n",
       "      <th>9</th>\n",
       "      <th>...</th>\n",
       "      <th>4086</th>\n",
       "      <th>4087</th>\n",
       "      <th>4088</th>\n",
       "      <th>4089</th>\n",
       "      <th>4090</th>\n",
       "      <th>4091</th>\n",
       "      <th>4092</th>\n",
       "      <th>4093</th>\n",
       "      <th>4094</th>\n",
       "      <th>4095</th>\n",
       "    </tr>\n",
       "  </thead>\n",
       "  <tbody>\n",
       "    <tr>\n",
       "      <th>0</th>\n",
       "      <td>2.376629</td>\n",
       "      <td>2.376629</td>\n",
       "      <td>2.376629</td>\n",
       "      <td>2.272642</td>\n",
       "      <td>2.376629</td>\n",
       "      <td>2.185985</td>\n",
       "      <td>1.839360</td>\n",
       "      <td>1.839360</td>\n",
       "      <td>1.648716</td>\n",
       "      <td>1.648716</td>\n",
       "      <td>...</td>\n",
       "      <td>0.816816</td>\n",
       "      <td>1.059454</td>\n",
       "      <td>0.452859</td>\n",
       "      <td>0.019578</td>\n",
       "      <td>-0.673672</td>\n",
       "      <td>-0.916310</td>\n",
       "      <td>-0.465697</td>\n",
       "      <td>0.227553</td>\n",
       "      <td>0.227553</td>\n",
       "      <td>0.227553</td>\n",
       "    </tr>\n",
       "    <tr>\n",
       "      <th>1</th>\n",
       "      <td>-0.307530</td>\n",
       "      <td>-0.405003</td>\n",
       "      <td>-0.683497</td>\n",
       "      <td>-0.794895</td>\n",
       "      <td>-0.892368</td>\n",
       "      <td>0.165910</td>\n",
       "      <td>0.736823</td>\n",
       "      <td>0.708974</td>\n",
       "      <td>0.708974</td>\n",
       "      <td>1.112790</td>\n",
       "      <td>...</td>\n",
       "      <td>-0.405003</td>\n",
       "      <td>-0.599949</td>\n",
       "      <td>-0.794895</td>\n",
       "      <td>-0.794895</td>\n",
       "      <td>-0.599949</td>\n",
       "      <td>-0.405003</td>\n",
       "      <td>-0.683497</td>\n",
       "      <td>-0.683497</td>\n",
       "      <td>-0.405003</td>\n",
       "      <td>-0.405003</td>\n",
       "    </tr>\n",
       "    <tr>\n",
       "      <th>2</th>\n",
       "      <td>0.932549</td>\n",
       "      <td>1.156817</td>\n",
       "      <td>0.932549</td>\n",
       "      <td>1.156817</td>\n",
       "      <td>2.627023</td>\n",
       "      <td>1.779786</td>\n",
       "      <td>1.156817</td>\n",
       "      <td>1.156817</td>\n",
       "      <td>0.932549</td>\n",
       "      <td>0.932549</td>\n",
       "      <td>...</td>\n",
       "      <td>-0.014364</td>\n",
       "      <td>0.359418</td>\n",
       "      <td>-0.014364</td>\n",
       "      <td>0.359418</td>\n",
       "      <td>0.359418</td>\n",
       "      <td>0.359418</td>\n",
       "      <td>0.359418</td>\n",
       "      <td>0.633524</td>\n",
       "      <td>0.359418</td>\n",
       "      <td>0.359418</td>\n",
       "    </tr>\n",
       "    <tr>\n",
       "      <th>3</th>\n",
       "      <td>-0.305156</td>\n",
       "      <td>-0.327394</td>\n",
       "      <td>-0.327394</td>\n",
       "      <td>-0.727689</td>\n",
       "      <td>-1.016790</td>\n",
       "      <td>-1.039028</td>\n",
       "      <td>-1.039028</td>\n",
       "      <td>-1.039028</td>\n",
       "      <td>-1.016790</td>\n",
       "      <td>-0.727689</td>\n",
       "      <td>...</td>\n",
       "      <td>-2.973784</td>\n",
       "      <td>-2.818114</td>\n",
       "      <td>-2.640205</td>\n",
       "      <td>-2.573489</td>\n",
       "      <td>-1.906333</td>\n",
       "      <td>-1.417084</td>\n",
       "      <td>-1.417084</td>\n",
       "      <td>-1.417084</td>\n",
       "      <td>-1.283653</td>\n",
       "      <td>-1.039028</td>\n",
       "    </tr>\n",
       "    <tr>\n",
       "      <th>4</th>\n",
       "      <td>0.587798</td>\n",
       "      <td>0.403992</td>\n",
       "      <td>0.403992</td>\n",
       "      <td>0.587798</td>\n",
       "      <td>0.934988</td>\n",
       "      <td>0.587798</td>\n",
       "      <td>0.812451</td>\n",
       "      <td>0.812451</td>\n",
       "      <td>0.587798</td>\n",
       "      <td>0.587798</td>\n",
       "      <td>...</td>\n",
       "      <td>0.403992</td>\n",
       "      <td>0.587798</td>\n",
       "      <td>0.301877</td>\n",
       "      <td>0.301877</td>\n",
       "      <td>0.301877</td>\n",
       "      <td>0.403992</td>\n",
       "      <td>0.138493</td>\n",
       "      <td>-0.269966</td>\n",
       "      <td>-0.269966</td>\n",
       "      <td>0.015955</td>\n",
       "    </tr>\n",
       "    <tr>\n",
       "      <th>...</th>\n",
       "      <td>...</td>\n",
       "      <td>...</td>\n",
       "      <td>...</td>\n",
       "      <td>...</td>\n",
       "      <td>...</td>\n",
       "      <td>...</td>\n",
       "      <td>...</td>\n",
       "      <td>...</td>\n",
       "      <td>...</td>\n",
       "      <td>...</td>\n",
       "      <td>...</td>\n",
       "      <td>...</td>\n",
       "      <td>...</td>\n",
       "      <td>...</td>\n",
       "      <td>...</td>\n",
       "      <td>...</td>\n",
       "      <td>...</td>\n",
       "      <td>...</td>\n",
       "      <td>...</td>\n",
       "      <td>...</td>\n",
       "      <td>...</td>\n",
       "    </tr>\n",
       "    <tr>\n",
       "      <th>155</th>\n",
       "      <td>-1.048562</td>\n",
       "      <td>-1.001034</td>\n",
       "      <td>-0.953506</td>\n",
       "      <td>-0.882215</td>\n",
       "      <td>-0.858451</td>\n",
       "      <td>-0.810923</td>\n",
       "      <td>-0.858451</td>\n",
       "      <td>-0.763396</td>\n",
       "      <td>-0.739632</td>\n",
       "      <td>-0.715868</td>\n",
       "      <td>...</td>\n",
       "      <td>-0.810923</td>\n",
       "      <td>-0.858451</td>\n",
       "      <td>-0.834687</td>\n",
       "      <td>-1.024798</td>\n",
       "      <td>-1.143617</td>\n",
       "      <td>-1.119853</td>\n",
       "      <td>-1.143617</td>\n",
       "      <td>-0.597049</td>\n",
       "      <td>-0.335647</td>\n",
       "      <td>-1.119853</td>\n",
       "    </tr>\n",
       "    <tr>\n",
       "      <th>156</th>\n",
       "      <td>-1.763844</td>\n",
       "      <td>-1.691524</td>\n",
       "      <td>-1.763844</td>\n",
       "      <td>-1.583044</td>\n",
       "      <td>-1.872325</td>\n",
       "      <td>-2.016965</td>\n",
       "      <td>-1.926565</td>\n",
       "      <td>-1.944645</td>\n",
       "      <td>-1.926565</td>\n",
       "      <td>-1.890405</td>\n",
       "      <td>...</td>\n",
       "      <td>0.514245</td>\n",
       "      <td>0.405764</td>\n",
       "      <td>0.478085</td>\n",
       "      <td>0.405764</td>\n",
       "      <td>0.351524</td>\n",
       "      <td>0.333444</td>\n",
       "      <td>0.188803</td>\n",
       "      <td>0.279204</td>\n",
       "      <td>0.333444</td>\n",
       "      <td>0.333444</td>\n",
       "    </tr>\n",
       "    <tr>\n",
       "      <th>157</th>\n",
       "      <td>-1.808174</td>\n",
       "      <td>-2.064598</td>\n",
       "      <td>-1.731246</td>\n",
       "      <td>-1.987671</td>\n",
       "      <td>-2.244095</td>\n",
       "      <td>-2.064598</td>\n",
       "      <td>-1.705604</td>\n",
       "      <td>-1.526107</td>\n",
       "      <td>-1.551749</td>\n",
       "      <td>-2.064598</td>\n",
       "      <td>...</td>\n",
       "      <td>-0.602979</td>\n",
       "      <td>-0.423482</td>\n",
       "      <td>-0.474767</td>\n",
       "      <td>-0.679906</td>\n",
       "      <td>-0.756834</td>\n",
       "      <td>-0.936331</td>\n",
       "      <td>-0.987616</td>\n",
       "      <td>-0.654264</td>\n",
       "      <td>-0.320912</td>\n",
       "      <td>-0.679906</td>\n",
       "    </tr>\n",
       "    <tr>\n",
       "      <th>158</th>\n",
       "      <td>1.422935</td>\n",
       "      <td>1.440367</td>\n",
       "      <td>1.457799</td>\n",
       "      <td>1.544961</td>\n",
       "      <td>1.597258</td>\n",
       "      <td>1.544961</td>\n",
       "      <td>1.719284</td>\n",
       "      <td>1.632123</td>\n",
       "      <td>1.510096</td>\n",
       "      <td>1.527529</td>\n",
       "      <td>...</td>\n",
       "      <td>0.621048</td>\n",
       "      <td>0.638480</td>\n",
       "      <td>0.603616</td>\n",
       "      <td>0.708209</td>\n",
       "      <td>0.760506</td>\n",
       "      <td>0.743074</td>\n",
       "      <td>0.673345</td>\n",
       "      <td>0.673345</td>\n",
       "      <td>0.708209</td>\n",
       "      <td>0.621048</td>\n",
       "    </tr>\n",
       "    <tr>\n",
       "      <th>159</th>\n",
       "      <td>-0.203640</td>\n",
       "      <td>-0.054376</td>\n",
       "      <td>-0.079254</td>\n",
       "      <td>-0.104131</td>\n",
       "      <td>0.020255</td>\n",
       "      <td>0.045132</td>\n",
       "      <td>-0.104131</td>\n",
       "      <td>0.194396</td>\n",
       "      <td>-0.153885</td>\n",
       "      <td>-0.129008</td>\n",
       "      <td>...</td>\n",
       "      <td>-0.402657</td>\n",
       "      <td>-0.352903</td>\n",
       "      <td>-0.153885</td>\n",
       "      <td>0.418290</td>\n",
       "      <td>0.194396</td>\n",
       "      <td>0.244150</td>\n",
       "      <td>0.492922</td>\n",
       "      <td>0.119764</td>\n",
       "      <td>-0.452411</td>\n",
       "      <td>0.094887</td>\n",
       "    </tr>\n",
       "  </tbody>\n",
       "</table>\n",
       "<p>160 rows × 4096 columns</p>\n",
       "</div>"
      ],
      "text/plain": [
       "         0         1         2         3         4         5         6     \\\n",
       "0    2.376629  2.376629  2.376629  2.272642  2.376629  2.185985  1.839360   \n",
       "1   -0.307530 -0.405003 -0.683497 -0.794895 -0.892368  0.165910  0.736823   \n",
       "2    0.932549  1.156817  0.932549  1.156817  2.627023  1.779786  1.156817   \n",
       "3   -0.305156 -0.327394 -0.327394 -0.727689 -1.016790 -1.039028 -1.039028   \n",
       "4    0.587798  0.403992  0.403992  0.587798  0.934988  0.587798  0.812451   \n",
       "..        ...       ...       ...       ...       ...       ...       ...   \n",
       "155 -1.048562 -1.001034 -0.953506 -0.882215 -0.858451 -0.810923 -0.858451   \n",
       "156 -1.763844 -1.691524 -1.763844 -1.583044 -1.872325 -2.016965 -1.926565   \n",
       "157 -1.808174 -2.064598 -1.731246 -1.987671 -2.244095 -2.064598 -1.705604   \n",
       "158  1.422935  1.440367  1.457799  1.544961  1.597258  1.544961  1.719284   \n",
       "159 -0.203640 -0.054376 -0.079254 -0.104131  0.020255  0.045132 -0.104131   \n",
       "\n",
       "         7         8         9     ...      4086      4087      4088  \\\n",
       "0    1.839360  1.648716  1.648716  ...  0.816816  1.059454  0.452859   \n",
       "1    0.708974  0.708974  1.112790  ... -0.405003 -0.599949 -0.794895   \n",
       "2    1.156817  0.932549  0.932549  ... -0.014364  0.359418 -0.014364   \n",
       "3   -1.039028 -1.016790 -0.727689  ... -2.973784 -2.818114 -2.640205   \n",
       "4    0.812451  0.587798  0.587798  ...  0.403992  0.587798  0.301877   \n",
       "..        ...       ...       ...  ...       ...       ...       ...   \n",
       "155 -0.763396 -0.739632 -0.715868  ... -0.810923 -0.858451 -0.834687   \n",
       "156 -1.944645 -1.926565 -1.890405  ...  0.514245  0.405764  0.478085   \n",
       "157 -1.526107 -1.551749 -2.064598  ... -0.602979 -0.423482 -0.474767   \n",
       "158  1.632123  1.510096  1.527529  ...  0.621048  0.638480  0.603616   \n",
       "159  0.194396 -0.153885 -0.129008  ... -0.402657 -0.352903 -0.153885   \n",
       "\n",
       "         4089      4090      4091      4092      4093      4094      4095  \n",
       "0    0.019578 -0.673672 -0.916310 -0.465697  0.227553  0.227553  0.227553  \n",
       "1   -0.794895 -0.599949 -0.405003 -0.683497 -0.683497 -0.405003 -0.405003  \n",
       "2    0.359418  0.359418  0.359418  0.359418  0.633524  0.359418  0.359418  \n",
       "3   -2.573489 -1.906333 -1.417084 -1.417084 -1.417084 -1.283653 -1.039028  \n",
       "4    0.301877  0.301877  0.403992  0.138493 -0.269966 -0.269966  0.015955  \n",
       "..        ...       ...       ...       ...       ...       ...       ...  \n",
       "155 -1.024798 -1.143617 -1.119853 -1.143617 -0.597049 -0.335647 -1.119853  \n",
       "156  0.405764  0.351524  0.333444  0.188803  0.279204  0.333444  0.333444  \n",
       "157 -0.679906 -0.756834 -0.936331 -0.987616 -0.654264 -0.320912 -0.679906  \n",
       "158  0.708209  0.760506  0.743074  0.673345  0.673345  0.708209  0.621048  \n",
       "159  0.418290  0.194396  0.244150  0.492922  0.119764 -0.452411  0.094887  \n",
       "\n",
       "[160 rows x 4096 columns]"
      ]
     },
     "execution_count": 52,
     "metadata": {},
     "output_type": "execute_result"
    }
   ],
   "source": [
    "# Your code here:\n",
    "\n",
    "tdata=data.T\n",
    "tdata"
   ]
  },
  {
   "cell_type": "markdown",
   "metadata": {},
   "source": [
    "Find the dot product of the transposed standardized pet matrix and the `factors` of the `PCA` model found above. This will be the projection onto 2 dimensions. This means that each cat and dog image will now only have two columns instead of 4096."
   ]
  },
  {
   "cell_type": "code",
   "execution_count": 54,
   "metadata": {},
   "outputs": [
    {
     "data": {
      "text/plain": [
       "(160, 2)"
      ]
     },
     "execution_count": 54,
     "metadata": {},
     "output_type": "execute_result"
    }
   ],
   "source": [
    "# Your code here:\n",
    "\n",
    "final= np.dot(tdata, pcdata)\n",
    "final.shape"
   ]
  },
  {
   "cell_type": "markdown",
   "metadata": {},
   "source": [
    "# Challenge 3 - Plotting the Data\n",
    "\n",
    "Now that we have reduced our cats and dogs arrays, we can easily plot the data in a way that the human eye can understand. We can look at this plot to see whether there are differences between the cat and dog images. \n",
    "\n",
    "In the cell below, turn the two dimensional projection into a pandas dataframe and name the columns `pc1`, and `pc2` respectively."
   ]
  },
  {
   "cell_type": "code",
   "execution_count": 59,
   "metadata": {},
   "outputs": [
    {
     "data": {
      "text/plain": [
       "(160, 2)"
      ]
     },
     "execution_count": 59,
     "metadata": {},
     "output_type": "execute_result"
    }
   ],
   "source": [
    "# Your code here:\n",
    "\n",
    "final2=pd.DataFrame(final)\n",
    "final2= final2.rename(columns= {0: 'pc1', 1: 'pc2'})\n",
    "final2.shape"
   ]
  },
  {
   "cell_type": "markdown",
   "metadata": {},
   "source": [
    "Create a labels list. This list will be of size 160. The first 80 elements in the list will be the word `blue`, and the last 80 elements will be `red`. This will ensure that all dog observations will be colored in blue and all cats will be colored in red. Name this list `colors`."
   ]
  },
  {
   "cell_type": "code",
   "execution_count": 66,
   "metadata": {},
   "outputs": [],
   "source": [
    "# Your code here:\n",
    "colors= []\n",
    "colors = [\"blue\"]*80\n",
    "colors2 = [\"red\"]*80\n",
    "for i in colors2 :\n",
    "    colors.append(i)\n",
    "colors\n",
    "final2[\"colors\"] = colors\n",
    "\n"
   ]
  },
  {
   "cell_type": "code",
   "execution_count": 68,
   "metadata": {},
   "outputs": [
    {
     "data": {
      "text/html": [
       "<div>\n",
       "<style scoped>\n",
       "    .dataframe tbody tr th:only-of-type {\n",
       "        vertical-align: middle;\n",
       "    }\n",
       "\n",
       "    .dataframe tbody tr th {\n",
       "        vertical-align: top;\n",
       "    }\n",
       "\n",
       "    .dataframe thead th {\n",
       "        text-align: right;\n",
       "    }\n",
       "</style>\n",
       "<table border=\"1\" class=\"dataframe\">\n",
       "  <thead>\n",
       "    <tr style=\"text-align: right;\">\n",
       "      <th></th>\n",
       "      <th>pc1</th>\n",
       "      <th>pc2</th>\n",
       "      <th>colors</th>\n",
       "    </tr>\n",
       "  </thead>\n",
       "  <tbody>\n",
       "    <tr>\n",
       "      <th>0</th>\n",
       "      <td>42.477619</td>\n",
       "      <td>14.718208</td>\n",
       "      <td>blue</td>\n",
       "    </tr>\n",
       "    <tr>\n",
       "      <th>1</th>\n",
       "      <td>32.188705</td>\n",
       "      <td>-19.266301</td>\n",
       "      <td>blue</td>\n",
       "    </tr>\n",
       "    <tr>\n",
       "      <th>2</th>\n",
       "      <td>-12.963228</td>\n",
       "      <td>-18.021974</td>\n",
       "      <td>blue</td>\n",
       "    </tr>\n",
       "    <tr>\n",
       "      <th>3</th>\n",
       "      <td>5.083059</td>\n",
       "      <td>-32.955572</td>\n",
       "      <td>blue</td>\n",
       "    </tr>\n",
       "    <tr>\n",
       "      <th>4</th>\n",
       "      <td>32.866232</td>\n",
       "      <td>4.119684</td>\n",
       "      <td>blue</td>\n",
       "    </tr>\n",
       "  </tbody>\n",
       "</table>\n",
       "</div>"
      ],
      "text/plain": [
       "         pc1        pc2 colors\n",
       "0  42.477619  14.718208   blue\n",
       "1  32.188705 -19.266301   blue\n",
       "2 -12.963228 -18.021974   blue\n",
       "3   5.083059 -32.955572   blue\n",
       "4  32.866232   4.119684   blue"
      ]
     },
     "execution_count": 68,
     "metadata": {},
     "output_type": "execute_result"
    }
   ],
   "source": [
    "final2.head()"
   ]
  },
  {
   "cell_type": "markdown",
   "metadata": {},
   "source": [
    "Create a scatter plot of `pc1` and `pc2` below. Use the `colors` list above to color the observations by setting `c=colors`."
   ]
  },
  {
   "cell_type": "code",
   "execution_count": 71,
   "metadata": {},
   "outputs": [
    {
     "data": {
      "text/plain": [
       "<AxesSubplot:xlabel='pc1', ylabel='pc2'>"
      ]
     },
     "execution_count": 71,
     "metadata": {},
     "output_type": "execute_result"
    },
    {
     "data": {
      "image/png": "[encoded data removed]",
      "text/plain": [
       "<Figure size 432x288 with 1 Axes>"
      ]
     },
     "metadata": {
      "needs_background": "light"
     },
     "output_type": "display_data"
    }
   ],
   "source": [
    "# Your code here:\n",
    "import seaborn as sns\n",
    "sns.scatterplot(x='pc1', y='pc2', hue= 'colors', data=final2)\n"
   ]
  },
  {
   "cell_type": "code",
   "execution_count": null,
   "metadata": {},
   "outputs": [],
   "source": []
  },
  {
   "cell_type": "code",
   "execution_count": 74,
   "metadata": {},
   "outputs": [],
   "source": [
    "# Your code here:\n",
    "colors= []\n",
    "colors = [0]*80\n",
    "colors2 = [1]*80\n",
    "for i in colors2 :\n",
    "    colors.append(i)\n",
    "colors\n",
    "final2[\"colors\"] = colors\n",
    "\n"
   ]
  },
  {
   "cell_type": "code",
   "execution_count": 75,
   "metadata": {},
   "outputs": [
    {
     "name": "stderr",
     "output_type": "stream",
     "text": [
      "/home/mora/anaconda3/envs/ironhack/lib/python3.8/site-packages/sklearn/manifold/_t_sne.py:780: FutureWarning: The default initialization in TSNE will change from 'random' to 'pca' in 1.2.\n",
      "  warnings.warn(\n",
      "/home/mora/anaconda3/envs/ironhack/lib/python3.8/site-packages/sklearn/manifold/_t_sne.py:790: FutureWarning: The default learning rate in TSNE will change from 200.0 to 'auto' in 1.2.\n",
      "  warnings.warn(\n"
     ]
    },
    {
     "data": {
      "text/html": [
       "<div>\n",
       "<style scoped>\n",
       "    .dataframe tbody tr th:only-of-type {\n",
       "        vertical-align: middle;\n",
       "    }\n",
       "\n",
       "    .dataframe tbody tr th {\n",
       "        vertical-align: top;\n",
       "    }\n",
       "\n",
       "    .dataframe thead th {\n",
       "        text-align: right;\n",
       "    }\n",
       "</style>\n",
       "<table border=\"1\" class=\"dataframe\">\n",
       "  <thead>\n",
       "    <tr style=\"text-align: right;\">\n",
       "      <th></th>\n",
       "      <th>pc1</th>\n",
       "      <th>pc2</th>\n",
       "    </tr>\n",
       "  </thead>\n",
       "  <tbody>\n",
       "    <tr>\n",
       "      <th>0</th>\n",
       "      <td>1.546414</td>\n",
       "      <td>0.904453</td>\n",
       "    </tr>\n",
       "    <tr>\n",
       "      <th>1</th>\n",
       "      <td>-4.099824</td>\n",
       "      <td>0.512444</td>\n",
       "    </tr>\n",
       "    <tr>\n",
       "      <th>2</th>\n",
       "      <td>-1.794439</td>\n",
       "      <td>2.792924</td>\n",
       "    </tr>\n",
       "    <tr>\n",
       "      <th>3</th>\n",
       "      <td>2.284568</td>\n",
       "      <td>-1.987190</td>\n",
       "    </tr>\n",
       "    <tr>\n",
       "      <th>4</th>\n",
       "      <td>-3.612578</td>\n",
       "      <td>3.563575</td>\n",
       "    </tr>\n",
       "  </tbody>\n",
       "</table>\n",
       "</div>"
      ],
      "text/plain": [
       "        pc1       pc2\n",
       "0  1.546414  0.904453\n",
       "1 -4.099824  0.512444\n",
       "2 -1.794439  2.792924\n",
       "3  2.284568 -1.987190\n",
       "4 -3.612578  3.563575"
      ]
     },
     "execution_count": 75,
     "metadata": {},
     "output_type": "execute_result"
    }
   ],
   "source": [
    "from sklearn.manifold import TSNE\n",
    "tsne=TSNE(n_components=2, perplexity=50)\n",
    "\n",
    "emb=tsne.fit_transform(final2.iloc[1:,::])\n",
    "\n",
    "tsne_df=pd.DataFrame(emb, columns=['pc1', 'pc2'])\n",
    "\n",
    "tsne_df.head()"
   ]
  },
  {
   "cell_type": "code",
   "execution_count": 77,
   "metadata": {},
   "outputs": [
    {
     "ename": "IndexError",
     "evalue": "list index out of range",
     "output_type": "error",
     "traceback": [
      "\u001b[0;31m---------------------------------------------------------------------------\u001b[0m",
      "\u001b[0;31mIndexError\u001b[0m                                Traceback (most recent call last)",
      "\u001b[0;32m<ipython-input-77-f1847bf9a7b2>\u001b[0m in \u001b[0;36m<module>\u001b[0;34m\u001b[0m\n\u001b[1;32m      1\u001b[0m tsne_df.plot.scatter(x='pc1', y='pc2', \n\u001b[0;32m----> 2\u001b[0;31m                      c=[sns.color_palette()[x] for x in range(160)])\n\u001b[0m\u001b[1;32m      3\u001b[0m \u001b[0;34m\u001b[0m\u001b[0m\n\u001b[1;32m      4\u001b[0m \u001b[0mplt\u001b[0m\u001b[0;34m.\u001b[0m\u001b[0mtitle\u001b[0m\u001b[0;34m(\u001b[0m\u001b[0;34m'Proyeccion t-SNE'\u001b[0m\u001b[0;34m)\u001b[0m\u001b[0;34m;\u001b[0m\u001b[0;34m\u001b[0m\u001b[0;34m\u001b[0m\u001b[0m\n",
      "\u001b[0;32m<ipython-input-77-f1847bf9a7b2>\u001b[0m in \u001b[0;36m<listcomp>\u001b[0;34m(.0)\u001b[0m\n\u001b[1;32m      1\u001b[0m tsne_df.plot.scatter(x='pc1', y='pc2', \n\u001b[0;32m----> 2\u001b[0;31m                      c=[sns.color_palette()[x] for x in range(160)])\n\u001b[0m\u001b[1;32m      3\u001b[0m \u001b[0;34m\u001b[0m\u001b[0m\n\u001b[1;32m      4\u001b[0m \u001b[0mplt\u001b[0m\u001b[0;34m.\u001b[0m\u001b[0mtitle\u001b[0m\u001b[0;34m(\u001b[0m\u001b[0;34m'Proyeccion t-SNE'\u001b[0m\u001b[0;34m)\u001b[0m\u001b[0;34m;\u001b[0m\u001b[0;34m\u001b[0m\u001b[0;34m\u001b[0m\u001b[0m\n",
      "\u001b[0;31mIndexError\u001b[0m: list index out of range"
     ]
    }
   ],
   "source": [
    "tsne_df.plot.scatter(x='pc1', y='pc2', \n",
    "                     c=[sns.color_palette()[x] for x in range(160)])\n",
    "\n",
    "plt.title('Proyeccion t-SNE');"
   ]
  },
  {
   "cell_type": "markdown",
   "metadata": {},
   "source": [
    "Do you see a clear separation between cats and dogs? Write your answer below."
   ]
  },
  {
   "cell_type": "code",
   "execution_count": 18,
   "metadata": {},
   "outputs": [],
   "source": [
    "# Your conclusions here:\n",
    "\n"
   ]
  },
  {
   "cell_type": "code",
   "execution_count": null,
   "metadata": {},
   "outputs": [],
   "source": []
  }
 ],
 "metadata": {
  "kernelspec": {
   "display_name": "ironhack",
   "language": "python",
   "name": "ironhack"
  },
  "language_info": {
   "codemirror_mode": {
    "name": "ipython",
    "version": 3
   },
   "file_extension": ".py",
   "mimetype": "text/x-python",
   "name": "python",
   "nbconvert_exporter": "python",
   "pygments_lexer": "ipython3",
   "version": "3.8.5"
  }
 },
 "nbformat": 4,
 "nbformat_minor": 2
}
